{
 "cells": [
  {
   "cell_type": "markdown",
   "metadata": {},
   "source": [
    "# Group 6 HW2\n",
    "# Yunze Li \n",
    "# Ce Luo\n",
    "# Huiwen Zhang"
   ]
  },
  {
   "cell_type": "markdown",
   "metadata": {},
   "source": [
    "# Homework #2"
   ]
  },
  {
   "cell_type": "code",
   "execution_count": 2,
   "metadata": {},
   "outputs": [
    {
     "name": "stdout",
     "output_type": "stream",
     "text": [
      "Populating the interactive namespace from numpy and matplotlib\n"
     ]
    }
   ],
   "source": [
    "%pylab inline"
   ]
  },
  {
   "cell_type": "code",
   "execution_count": 3,
   "metadata": {},
   "outputs": [],
   "source": [
    "import os\n",
    "import json\n",
    "import re\n",
    "\n",
    "import numpy as np\n",
    "import pandas as pd"
   ]
  },
  {
   "cell_type": "markdown",
   "metadata": {},
   "source": [
    "# Problem 1: Word phrases\n",
    "\n",
    "### In this problem we will look at methods to identify valid n-grams such as 'New York' or 'Barack Obama' while eliminating statistical flukes such as `in the` or `i write`.\n",
    "\n",
    "### Preprocessing such as this can drastically improved embeddings since words can ngrams will often have a different meaning than the sum of its parts\n",
    "### `V('united')` + `V('states')` != `V('united states')`\n",
    "### `V('real')` + `V('estate')` != `V('real estate')`"
   ]
  },
  {
   "cell_type": "code",
   "execution_count": 4,
   "metadata": {},
   "outputs": [],
   "source": [
    "wiki_df = pd.read_csv('kdwd_r1k_articles.csv')"
   ]
  },
  {
   "cell_type": "markdown",
   "metadata": {},
   "source": [
    "### get consecutive unigrams for the 'intro_text' column of our dataset"
   ]
  },
  {
   "cell_type": "code",
   "execution_count": 6,
   "metadata": {},
   "outputs": [],
   "source": [
    "# list of lists of unigrams\n",
    "unigram_pattern = r'\\b[\\w]+[\\w]\\b'\n",
    "corpus = [re.findall(unigram_pattern, doc.lower()) for doc in wiki_df['intro_text'].tolist()]\n"
   ]
  },
  {
   "cell_type": "markdown",
   "metadata": {},
   "source": [
    "### The package `gensim` has a convenient wrapper to obtain statistically significant ngrams/Phrase automatically\n",
    "\n",
    "### we need to first `pip install gensim`\n",
    "### `gensim` is a useful library for anything related to word representations and embeddings. It will come up a few more times. https://radimrehurek.com/gensim/index.html"
   ]
  },
  {
   "cell_type": "code",
   "execution_count": 7,
   "metadata": {},
   "outputs": [],
   "source": [
    "from gensim.models.phrases import Phrases"
   ]
  },
  {
   "cell_type": "markdown",
   "metadata": {},
   "source": [
    "### Write some code to parse our corpus and use valid ngrams using `Phrases`"
   ]
  },
  {
   "cell_type": "code",
   "execution_count": 8,
   "metadata": {},
   "outputs": [],
   "source": [
    "phrases = Phrases(corpus, min_count = 1)\n"
   ]
  },
  {
   "cell_type": "code",
   "execution_count": 9,
   "metadata": {},
   "outputs": [],
   "source": [
    "vocab_count_dict = {k.decode('utf8'): v for k, v in phrases.vocab.items()}\n"
   ]
  },
  {
   "cell_type": "code",
   "execution_count": 10,
   "metadata": {},
   "outputs": [],
   "source": [
    "n_grams = pd.DataFrame(sorted(vocab_count_dict.items(), key=lambda x:x[1], reverse = True), columns = ['n_gram', '# of occurance'])"
   ]
  },
  {
   "cell_type": "code",
   "execution_count": 11,
   "metadata": {},
   "outputs": [
    {
     "name": "stdout",
     "output_type": "stream",
     "text": [
      "59656 n-grams found\n"
     ]
    },
    {
     "data": {
      "text/html": [
       "<div>\n",
       "<style scoped>\n",
       "    .dataframe tbody tr th:only-of-type {\n",
       "        vertical-align: middle;\n",
       "    }\n",
       "\n",
       "    .dataframe tbody tr th {\n",
       "        vertical-align: top;\n",
       "    }\n",
       "\n",
       "    .dataframe thead th {\n",
       "        text-align: right;\n",
       "    }\n",
       "</style>\n",
       "<table border=\"1\" class=\"dataframe\">\n",
       "  <thead>\n",
       "    <tr style=\"text-align: right;\">\n",
       "      <th></th>\n",
       "      <th>n_gram</th>\n",
       "      <th># of occurance</th>\n",
       "    </tr>\n",
       "  </thead>\n",
       "  <tbody>\n",
       "    <tr>\n",
       "      <td>0</td>\n",
       "      <td>the</td>\n",
       "      <td>4873</td>\n",
       "    </tr>\n",
       "    <tr>\n",
       "      <td>1</td>\n",
       "      <td>and</td>\n",
       "      <td>4173</td>\n",
       "    </tr>\n",
       "    <tr>\n",
       "      <td>2</td>\n",
       "      <td>in</td>\n",
       "      <td>3706</td>\n",
       "    </tr>\n",
       "    <tr>\n",
       "      <td>3</td>\n",
       "      <td>of</td>\n",
       "      <td>2422</td>\n",
       "    </tr>\n",
       "    <tr>\n",
       "      <td>4</td>\n",
       "      <td>company</td>\n",
       "      <td>1884</td>\n",
       "    </tr>\n",
       "    <tr>\n",
       "      <td>5</td>\n",
       "      <td>is</td>\n",
       "      <td>1686</td>\n",
       "    </tr>\n",
       "    <tr>\n",
       "      <td>6</td>\n",
       "      <td>to</td>\n",
       "      <td>1072</td>\n",
       "    </tr>\n",
       "    <tr>\n",
       "      <td>7</td>\n",
       "      <td>the_company</td>\n",
       "      <td>999</td>\n",
       "    </tr>\n",
       "    <tr>\n",
       "      <td>8</td>\n",
       "      <td>as</td>\n",
       "      <td>905</td>\n",
       "    </tr>\n",
       "    <tr>\n",
       "      <td>9</td>\n",
       "      <td>it</td>\n",
       "      <td>757</td>\n",
       "    </tr>\n",
       "  </tbody>\n",
       "</table>\n",
       "</div>"
      ],
      "text/plain": [
       "        n_gram  # of occurance\n",
       "0          the            4873\n",
       "1          and            4173\n",
       "2           in            3706\n",
       "3           of            2422\n",
       "4      company            1884\n",
       "5           is            1686\n",
       "6           to            1072\n",
       "7  the_company             999\n",
       "8           as             905\n",
       "9           it             757"
      ]
     },
     "execution_count": 11,
     "metadata": {},
     "output_type": "execute_result"
    }
   ],
   "source": [
    "print(n_grams.shape[0], 'n-grams found')\n",
    "n_grams.head(10)"
   ]
  },
  {
   "cell_type": "markdown",
   "metadata": {},
   "source": [
    "### How do the results look? Can you improve the results by excluding common terms using the `common_terms` kwarg of `Phrases`?"
   ]
  },
  {
   "cell_type": "code",
   "execution_count": 12,
   "metadata": {},
   "outputs": [],
   "source": [
    "from sklearn.feature_extraction import stop_words\n",
    "phrases = Phrases(corpus, min_count =1, common_terms = stop_words.ENGLISH_STOP_WORDS )"
   ]
  },
  {
   "cell_type": "code",
   "execution_count": 13,
   "metadata": {},
   "outputs": [],
   "source": [
    "vocab_count_dict = {k.decode('utf8'): v for k, v in phrases.vocab.items()}\n",
    "n_grams = pd.DataFrame(sorted(vocab_count_dict.items(), key=lambda x:x[1], reverse = True), columns = ['n_gram', '# of occurance'])"
   ]
  },
  {
   "cell_type": "code",
   "execution_count": 14,
   "metadata": {},
   "outputs": [
    {
     "name": "stdout",
     "output_type": "stream",
     "text": [
      "54886 n-grams found\n"
     ]
    },
    {
     "data": {
      "text/html": [
       "<div>\n",
       "<style scoped>\n",
       "    .dataframe tbody tr th:only-of-type {\n",
       "        vertical-align: middle;\n",
       "    }\n",
       "\n",
       "    .dataframe tbody tr th {\n",
       "        vertical-align: top;\n",
       "    }\n",
       "\n",
       "    .dataframe thead th {\n",
       "        text-align: right;\n",
       "    }\n",
       "</style>\n",
       "<table border=\"1\" class=\"dataframe\">\n",
       "  <thead>\n",
       "    <tr style=\"text-align: right;\">\n",
       "      <th></th>\n",
       "      <th>n_gram</th>\n",
       "      <th># of occurance</th>\n",
       "    </tr>\n",
       "  </thead>\n",
       "  <tbody>\n",
       "    <tr>\n",
       "      <td>0</td>\n",
       "      <td>company</td>\n",
       "      <td>1884</td>\n",
       "    </tr>\n",
       "    <tr>\n",
       "      <td>1</td>\n",
       "      <td>american</td>\n",
       "      <td>498</td>\n",
       "    </tr>\n",
       "    <tr>\n",
       "      <td>2</td>\n",
       "      <td>largest</td>\n",
       "      <td>453</td>\n",
       "    </tr>\n",
       "    <tr>\n",
       "      <td>3</td>\n",
       "      <td>states</td>\n",
       "      <td>451</td>\n",
       "    </tr>\n",
       "    <tr>\n",
       "      <td>4</td>\n",
       "      <td>united</td>\n",
       "      <td>443</td>\n",
       "    </tr>\n",
       "    <tr>\n",
       "      <td>5</td>\n",
       "      <td>services</td>\n",
       "      <td>418</td>\n",
       "    </tr>\n",
       "    <tr>\n",
       "      <td>6</td>\n",
       "      <td>united_states</td>\n",
       "      <td>393</td>\n",
       "    </tr>\n",
       "    <tr>\n",
       "      <td>7</td>\n",
       "      <td>corporation</td>\n",
       "      <td>391</td>\n",
       "    </tr>\n",
       "    <tr>\n",
       "      <td>8</td>\n",
       "      <td>products</td>\n",
       "      <td>360</td>\n",
       "    </tr>\n",
       "    <tr>\n",
       "      <td>9</td>\n",
       "      <td>headquartered</td>\n",
       "      <td>334</td>\n",
       "    </tr>\n",
       "  </tbody>\n",
       "</table>\n",
       "</div>"
      ],
      "text/plain": [
       "          n_gram  # of occurance\n",
       "0        company            1884\n",
       "1       american             498\n",
       "2        largest             453\n",
       "3         states             451\n",
       "4         united             443\n",
       "5       services             418\n",
       "6  united_states             393\n",
       "7    corporation             391\n",
       "8       products             360\n",
       "9  headquartered             334"
      ]
     },
     "execution_count": 14,
     "metadata": {},
     "output_type": "execute_result"
    }
   ],
   "source": [
    "print(n_grams.shape[0], 'n-grams found')\n",
    "n_grams.head(10)"
   ]
  },
  {
   "cell_type": "markdown",
   "metadata": {},
   "source": [
    "## This was convenient, but it's also a black box where many of the knobs for tuning are actually broken in the newest version. Let's try to create our own solution for finding n-grams.\n",
    "\n",
    "### To do this, let's start by counting unigrams and bigrams within our corpus"
   ]
  },
  {
   "cell_type": "markdown",
   "metadata": {},
   "source": [
    "### Tip: use Counter for easy counting. It behaves similar to a dictionary with some added functionality around counting. such as `my_counter[unknown_key]` returning `0` for all unknown keys"
   ]
  },
  {
   "cell_type": "code",
   "execution_count": null,
   "metadata": {},
   "outputs": [],
   "source": []
  },
  {
   "cell_type": "code",
   "execution_count": 15,
   "metadata": {},
   "outputs": [],
   "source": [
    "from collections import Counter\n",
    "\n",
    "unigram_counter = Counter()\n",
    "bigram_counter = Counter()\n",
    "for tokens in corpus:\n",
    "    # your code here\n",
    "    unigram_counter.update(Counter(tokens))\n",
    "    bigrams = []\n",
    "    for i in range(len(tokens)-1):\n",
    "        bigrams.append(' '.join(tokens[i:i+2]))\n",
    "    bigram_counter.update(Counter(bigrams))\n",
    "bigrams = pd.Series(bigrams)\n",
    "        "
   ]
  },
  {
   "cell_type": "markdown",
   "metadata": {},
   "source": [
    "### Now we need to come up with a score for each bigram that helps us decide on its importance and the fact of whether it is truly a bigram or two independent unigrams."
   ]
  },
  {
   "cell_type": "code",
   "execution_count": 16,
   "metadata": {},
   "outputs": [],
   "source": [
    "removal = list(stop_words.ENGLISH_STOP_WORDS)\n",
    "removal.remove('inc')"
   ]
  },
  {
   "cell_type": "code",
   "execution_count": 17,
   "metadata": {},
   "outputs": [],
   "source": [
    "# your code here\n",
    "\n",
    "modified_bigram = [[k,v] for k,v in bigram_counter.items() if k.split()[0] not in removal and k.split()[1] not in removal and v>1]\n",
    "\n",
    "bigram_df = pd.DataFrame(modified_bigram, columns = ['bigrams', '# of Occurance']).sort_values(by = ['# of Occurance'],ascending=False)"
   ]
  },
  {
   "cell_type": "code",
   "execution_count": 18,
   "metadata": {},
   "outputs": [
    {
     "data": {
      "text/html": [
       "<div>\n",
       "<style scoped>\n",
       "    .dataframe tbody tr th:only-of-type {\n",
       "        vertical-align: middle;\n",
       "    }\n",
       "\n",
       "    .dataframe tbody tr th {\n",
       "        vertical-align: top;\n",
       "    }\n",
       "\n",
       "    .dataframe thead th {\n",
       "        text-align: right;\n",
       "    }\n",
       "</style>\n",
       "<table border=\"1\" class=\"dataframe\">\n",
       "  <thead>\n",
       "    <tr style=\"text-align: right;\">\n",
       "      <th></th>\n",
       "      <th>bigrams</th>\n",
       "      <th># of Occurance</th>\n",
       "    </tr>\n",
       "  </thead>\n",
       "  <tbody>\n",
       "    <tr>\n",
       "      <td>118</td>\n",
       "      <td>united states</td>\n",
       "      <td>393</td>\n",
       "    </tr>\n",
       "    <tr>\n",
       "      <td>145</td>\n",
       "      <td>new york</td>\n",
       "      <td>191</td>\n",
       "    </tr>\n",
       "    <tr>\n",
       "      <td>115</td>\n",
       "      <td>fortune 500</td>\n",
       "      <td>165</td>\n",
       "    </tr>\n",
       "    <tr>\n",
       "      <td>1</td>\n",
       "      <td>american multinational</td>\n",
       "      <td>92</td>\n",
       "    </tr>\n",
       "    <tr>\n",
       "      <td>876</td>\n",
       "      <td>real estate</td>\n",
       "      <td>91</td>\n",
       "    </tr>\n",
       "    <tr>\n",
       "      <td>75</td>\n",
       "      <td>publicly traded</td>\n",
       "      <td>85</td>\n",
       "    </tr>\n",
       "    <tr>\n",
       "      <td>930</td>\n",
       "      <td>natural gas</td>\n",
       "      <td>85</td>\n",
       "    </tr>\n",
       "    <tr>\n",
       "      <td>4</td>\n",
       "      <td>company headquartered</td>\n",
       "      <td>84</td>\n",
       "    </tr>\n",
       "    <tr>\n",
       "      <td>133</td>\n",
       "      <td>holding company</td>\n",
       "      <td>73</td>\n",
       "    </tr>\n",
       "    <tr>\n",
       "      <td>269</td>\n",
       "      <td>stock exchange</td>\n",
       "      <td>70</td>\n",
       "    </tr>\n",
       "  </tbody>\n",
       "</table>\n",
       "</div>"
      ],
      "text/plain": [
       "                    bigrams  # of Occurance\n",
       "118           united states             393\n",
       "145                new york             191\n",
       "115             fortune 500             165\n",
       "1    american multinational              92\n",
       "876             real estate              91\n",
       "75          publicly traded              85\n",
       "930             natural gas              85\n",
       "4     company headquartered              84\n",
       "133         holding company              73\n",
       "269          stock exchange              70"
      ]
     },
     "execution_count": 18,
     "metadata": {},
     "output_type": "execute_result"
    }
   ],
   "source": [
    "bigram_df.head(10)"
   ]
  },
  {
   "cell_type": "markdown",
   "metadata": {},
   "source": [
    "### Find ways to sort and filter your output to bigrams that make sense, such as `wells fargo`, `apple inc` or `puerto rico`"
   ]
  },
  {
   "cell_type": "code",
   "execution_count": 19,
   "metadata": {},
   "outputs": [],
   "source": [
    "# your code here\n",
    "\n",
    "filtered_bigram_df = bigram_df # Already sorted earlier"
   ]
  },
  {
   "cell_type": "code",
   "execution_count": 20,
   "metadata": {},
   "outputs": [
    {
     "data": {
      "text/html": [
       "<div>\n",
       "<style scoped>\n",
       "    .dataframe tbody tr th:only-of-type {\n",
       "        vertical-align: middle;\n",
       "    }\n",
       "\n",
       "    .dataframe tbody tr th {\n",
       "        vertical-align: top;\n",
       "    }\n",
       "\n",
       "    .dataframe thead th {\n",
       "        text-align: right;\n",
       "    }\n",
       "</style>\n",
       "<table border=\"1\" class=\"dataframe\">\n",
       "  <thead>\n",
       "    <tr style=\"text-align: right;\">\n",
       "      <th></th>\n",
       "      <th>bigrams</th>\n",
       "      <th># of Occurance</th>\n",
       "    </tr>\n",
       "  </thead>\n",
       "  <tbody>\n",
       "    <tr>\n",
       "      <td>118</td>\n",
       "      <td>united states</td>\n",
       "      <td>393</td>\n",
       "    </tr>\n",
       "    <tr>\n",
       "      <td>145</td>\n",
       "      <td>new york</td>\n",
       "      <td>191</td>\n",
       "    </tr>\n",
       "    <tr>\n",
       "      <td>115</td>\n",
       "      <td>fortune 500</td>\n",
       "      <td>165</td>\n",
       "    </tr>\n",
       "    <tr>\n",
       "      <td>1</td>\n",
       "      <td>american multinational</td>\n",
       "      <td>92</td>\n",
       "    </tr>\n",
       "    <tr>\n",
       "      <td>876</td>\n",
       "      <td>real estate</td>\n",
       "      <td>91</td>\n",
       "    </tr>\n",
       "    <tr>\n",
       "      <td>75</td>\n",
       "      <td>publicly traded</td>\n",
       "      <td>85</td>\n",
       "    </tr>\n",
       "    <tr>\n",
       "      <td>930</td>\n",
       "      <td>natural gas</td>\n",
       "      <td>85</td>\n",
       "    </tr>\n",
       "    <tr>\n",
       "      <td>4</td>\n",
       "      <td>company headquartered</td>\n",
       "      <td>84</td>\n",
       "    </tr>\n",
       "    <tr>\n",
       "      <td>133</td>\n",
       "      <td>holding company</td>\n",
       "      <td>73</td>\n",
       "    </tr>\n",
       "    <tr>\n",
       "      <td>269</td>\n",
       "      <td>stock exchange</td>\n",
       "      <td>70</td>\n",
       "    </tr>\n",
       "  </tbody>\n",
       "</table>\n",
       "</div>"
      ],
      "text/plain": [
       "                    bigrams  # of Occurance\n",
       "118           united states             393\n",
       "145                new york             191\n",
       "115             fortune 500             165\n",
       "1    american multinational              92\n",
       "876             real estate              91\n",
       "75          publicly traded              85\n",
       "930             natural gas              85\n",
       "4     company headquartered              84\n",
       "133         holding company              73\n",
       "269          stock exchange              70"
      ]
     },
     "execution_count": 20,
     "metadata": {},
     "output_type": "execute_result"
    }
   ],
   "source": [
    "filtered_bigram_df.head(10)"
   ]
  },
  {
   "cell_type": "code",
   "execution_count": 21,
   "metadata": {},
   "outputs": [],
   "source": [
    "target = ['wells fargo', 'apple inc' , 'puerto rico']"
   ]
  },
  {
   "cell_type": "code",
   "execution_count": 22,
   "metadata": {},
   "outputs": [
    {
     "name": "stdout",
     "output_type": "stream",
     "text": [
      "             # of Occurance\n",
      "bigrams                    \n",
      "wells fargo              24\n",
      "           # of Occurance\n",
      "bigrams                  \n",
      "apple inc               4\n",
      "             # of Occurance\n",
      "bigrams                    \n",
      "puerto rico              25\n"
     ]
    }
   ],
   "source": [
    "for gram_2 in target:\n",
    "    print(filtered_bigram_df.set_index(\"bigrams\").filter(like= gram_2, axis=0))"
   ]
  },
  {
   "cell_type": "code",
   "execution_count": null,
   "metadata": {},
   "outputs": [],
   "source": []
  },
  {
   "cell_type": "markdown",
   "metadata": {},
   "source": [
    "# Problem 2: Word vectors via Pointwise Mutual Information (PMI)"
   ]
  },
  {
   "cell_type": "markdown",
   "metadata": {},
   "source": [
    "### In this problem we will investigate another way of creating word representation from word co-occurrences. For this we will create a word-word matrix that counts the number of times that two words appear close to each other.\n",
    "\n",
    "## More formally:"
   ]
  },
  {
   "cell_type": "markdown",
   "metadata": {},
   "source": [
    "### The pointwise mutual information (PMI) for a (word, context) pair in a corpus is defined as the probability of their co-occurrence divided by the probabilities of them appearing individually, \n",
    "## $$\n",
    "{\\rm pmi}(w, c) = \\log \\frac{p(w, c)}{p(w) p(c)}\n",
    "$$\n",
    "\n",
    "## $$\n",
    "p(w, c) = \\frac{\n",
    "f_{i,j}\n",
    "}{\n",
    "\\sum_{i=1}^N \\sum_{j=1}^N f_{i,j}\n",
    "}, \\quad \n",
    "p(w) = \\frac{\n",
    "\\sum_{j=1}^N f_{i,j}\n",
    "}{\n",
    "\\sum_{i=1}^N \\sum_{j=1}^N f_{i,j}\n",
    "}, \\quad\n",
    "p(c) = \\frac{\n",
    "\\sum_{i=1}^N f_{i,j}\n",
    "}{\n",
    "\\sum_{i=1}^N \\sum_{j=1}^N f_{i,j}\n",
    "}\n",
    "$$\n",
    "### where $f_{i,j}$ is the word-word count matrix. <br />\n",
    "### In addition we can define the positive pointwise mutual information as, \n",
    "## $$\n",
    "{\\rm ppmi}(w, c) = {\\rm max}\\left[{\\rm pmi(w,c)}, 0 \\right]\n",
    "$$"
   ]
  },
  {
   "cell_type": "markdown",
   "metadata": {},
   "source": [
    "## We will implement this on our wiki featured articles dataset"
   ]
  },
  {
   "cell_type": "code",
   "execution_count": 23,
   "metadata": {},
   "outputs": [
    {
     "data": {
      "text/html": [
       "<div>\n",
       "<style scoped>\n",
       "    .dataframe tbody tr th:only-of-type {\n",
       "        vertical-align: middle;\n",
       "    }\n",
       "\n",
       "    .dataframe tbody tr th {\n",
       "        vertical-align: top;\n",
       "    }\n",
       "\n",
       "    .dataframe thead th {\n",
       "        text-align: right;\n",
       "    }\n",
       "</style>\n",
       "<table border=\"1\" class=\"dataframe\">\n",
       "  <thead>\n",
       "    <tr style=\"text-align: right;\">\n",
       "      <th></th>\n",
       "      <th>page_id</th>\n",
       "      <th>page_title</th>\n",
       "      <th>page_views</th>\n",
       "      <th>intro_text</th>\n",
       "    </tr>\n",
       "  </thead>\n",
       "  <tbody>\n",
       "    <tr>\n",
       "      <td>1419</td>\n",
       "      <td>354917</td>\n",
       "      <td>Silky shark</td>\n",
       "      <td>986</td>\n",
       "      <td>The silky shark (Carcharhinus falciformis), al...</td>\n",
       "    </tr>\n",
       "    <tr>\n",
       "      <td>1906</td>\n",
       "      <td>740176</td>\n",
       "      <td>Reactive attachment disorder</td>\n",
       "      <td>5999</td>\n",
       "      <td>Reactive attachment disorder (RAD) is describe...</td>\n",
       "    </tr>\n",
       "    <tr>\n",
       "      <td>2585</td>\n",
       "      <td>1938172</td>\n",
       "      <td>Red-tailed black cockatoo</td>\n",
       "      <td>1552</td>\n",
       "      <td>The red-tailed black cockatoo (Calyptorhynchus...</td>\n",
       "    </tr>\n",
       "    <tr>\n",
       "      <td>4600</td>\n",
       "      <td>22523831</td>\n",
       "      <td>Effects of Hurricane Georges in Louisiana</td>\n",
       "      <td>193</td>\n",
       "      <td>The effects of Hurricane Georges in Louisiana ...</td>\n",
       "    </tr>\n",
       "    <tr>\n",
       "      <td>2705</td>\n",
       "      <td>2238902</td>\n",
       "      <td>The Last Temptation of Krust</td>\n",
       "      <td>713</td>\n",
       "      <td>\"The Last Temptation of Krust\" is the fifteent...</td>\n",
       "    </tr>\n",
       "  </tbody>\n",
       "</table>\n",
       "</div>"
      ],
      "text/plain": [
       "       page_id                                 page_title  page_views  \\\n",
       "1419    354917                                Silky shark         986   \n",
       "1906    740176               Reactive attachment disorder        5999   \n",
       "2585   1938172                  Red-tailed black cockatoo        1552   \n",
       "4600  22523831  Effects of Hurricane Georges in Louisiana         193   \n",
       "2705   2238902               The Last Temptation of Krust         713   \n",
       "\n",
       "                                             intro_text  \n",
       "1419  The silky shark (Carcharhinus falciformis), al...  \n",
       "1906  Reactive attachment disorder (RAD) is describe...  \n",
       "2585  The red-tailed black cockatoo (Calyptorhynchus...  \n",
       "4600  The effects of Hurricane Georges in Louisiana ...  \n",
       "2705  \"The Last Temptation of Krust\" is the fifteent...  "
      ]
     },
     "execution_count": 23,
     "metadata": {},
     "output_type": "execute_result"
    }
   ],
   "source": [
    "wiki_feat_df = pd.read_csv('kdwd_featured_articles.csv')\n",
    "wiki_feat_df.sample(5)"
   ]
  },
  {
   "cell_type": "code",
   "execution_count": 24,
   "metadata": {},
   "outputs": [],
   "source": [
    "corpus = wiki_feat_df['intro_text'].tolist()"
   ]
  },
  {
   "cell_type": "code",
   "execution_count": 31,
   "metadata": {},
   "outputs": [],
   "source": [
    "def get_tokens(text):\n",
    "    token_pattern = r'\\b[A-z0-9]+[A-z0-9]\\b'\n",
    "    return re.findall(token_pattern, text.lower())"
   ]
  },
  {
   "cell_type": "code",
   "execution_count": 32,
   "metadata": {},
   "outputs": [],
   "source": [
    "from collections import Counter"
   ]
  },
  {
   "cell_type": "code",
   "execution_count": 33,
   "metadata": {},
   "outputs": [
    {
     "name": "stdout",
     "output_type": "stream",
     "text": [
      "vocabulary size: 61102\n"
     ]
    }
   ],
   "source": [
    "unigram_counts = Counter()\n",
    "for doc in corpus:\n",
    "    # your code here\n",
    "    unigram_counts.update(get_tokens(doc))\n",
    "\n",
    "vocab = {token: n for n, token in enumerate(pd.Series(unigram_counts).index)}\n",
    "inv_vocab = { k:v for v, k in vocab.items()}\n",
    "print('vocabulary size: {}'.format(len(unigram_counts)))"
   ]
  },
  {
   "cell_type": "markdown",
   "metadata": {},
   "source": [
    "### Skip-grams are a generalization of n-grams: https://en.wikipedia.org/wiki/N-gram#Skip-gram\n",
    "### We will use this term here to find pairs of word within a context window, meaning that all words separated by max N words will be considered a bigram"
   ]
  },
  {
   "cell_type": "code",
   "execution_count": 34,
   "metadata": {},
   "outputs": [
    {
     "name": "stdout",
     "output_type": "stream",
     "text": [
      "number of skipgrams: 1940473\n",
      "most common:\n"
     ]
    },
    {
     "data": {
      "text/plain": [
       "[(('of', 'the'), 42092),\n",
       " (('the', 'of'), 23122),\n",
       " (('in', 'the'), 18018),\n",
       " (('the', 'in'), 17667),\n",
       " (('and', 'the'), 11367)]"
      ]
     },
     "execution_count": 34,
     "metadata": {},
     "output_type": "execute_result"
    }
   ],
   "source": [
    "# use skip-2-grams and context length 2 in each direction\n",
    "word_window_len = 2\n",
    "skipgram_counts = Counter()\n",
    "for doc in corpus:\n",
    "    tokens = get_tokens(doc)\n",
    "    for token_idx, token in enumerate(tokens):\n",
    "        skipgram = []\n",
    "        for context_token in tokens[token_idx - word_window_len:token_idx + word_window_len]:\n",
    "            #your code here\n",
    "            if token != context_token:\n",
    "                skipgram.append((vocab[token], vocab[context_token]))\n",
    "        skipgram_counts.update(skipgram)\n",
    "                \n",
    "\n",
    "print('number of skipgrams:', len(skipgram_counts))\n",
    "print('most common:')\n",
    "[((inv_vocab[t1], inv_vocab[t2]), v) for (t1, t2), v in skipgram_counts.most_common(5)]"
   ]
  },
  {
   "cell_type": "markdown",
   "metadata": {},
   "source": [
    "### Now let's create a sparse matrix that contains word-word co-occurrence counts"
   ]
  },
  {
   "cell_type": "code",
   "execution_count": 35,
   "metadata": {},
   "outputs": [],
   "source": [
    "from scipy import sparse as ssp\n",
    "\n",
    "row_indxs = []\n",
    "col_indxs = []\n",
    "dat_values = []\n",
    "\n",
    "# your code here\n",
    "for (r,c) , v in skipgram_counts.items():\n",
    "    row_indxs.append(r)\n",
    "    col_indxs.append(c)\n",
    "    dat_values.append(v)\n",
    "\n",
    "wwcnt_mat = ssp.csr_matrix((dat_values, (row_indxs, col_indxs)))"
   ]
  },
  {
   "cell_type": "markdown",
   "metadata": {},
   "source": [
    "### Next, create the PPMI matrix"
   ]
  },
  {
   "cell_type": "code",
   "execution_count": 36,
   "metadata": {},
   "outputs": [],
   "source": [
    "# reusable quantities\n",
    "num_skipgrams = wwcnt_mat.sum()\n",
    "sum_over_words = np.array(wwcnt_mat.sum(axis=0)).flatten()\n",
    "sum_over_contexts = np.array(wwcnt_mat.sum(axis=1)).flatten()\n",
    "\n",
    "ppmi_dat_values = []   # positive pointwise mutial information\n",
    "row_indxs = []  # for creating sparce matrices\n",
    "col_indxs = []  # for creating sparce matrices\n",
    "for (tok_word, tok_context), sg_count in skipgram_counts.items():\n",
    "\n",
    "    nwc = num_skipgrams\n",
    "    Pwc = sg_count/num_skipgrams\n",
    "    nc = sum_over_contexts[tok_word]\n",
    "    Pc = nc/nwc\n",
    "    nw = sum_over_words[tok_context]\n",
    "    Pw = nw/nwc\n",
    "    \n",
    "    pmi = np.log2(Pwc / (Pw * Pc))   \n",
    "    ppmi = max(pmi, 0)\n",
    "    \n",
    "    row_indxs.append(tok_word)\n",
    "    col_indxs.append(tok_context)\n",
    "    ppmi_dat_values.append(ppmi)\n",
    "\n",
    "ppmi_mat = ssp.csr_matrix((ppmi_dat_values, (row_indxs, col_indxs)))"
   ]
  },
  {
   "cell_type": "markdown",
   "metadata": {},
   "source": [
    "## Use `ppmi_mat` to investigate the most similar values to a few test terms."
   ]
  },
  {
   "cell_type": "code",
   "execution_count": 37,
   "metadata": {},
   "outputs": [],
   "source": [
    "# to speed up calculation we do dimentionality reduction here\n",
    "from sklearn.metrics.pairwise import cosine_similarity\n",
    "from sklearn.decomposition import TruncatedSVD\n",
    "svd = TruncatedSVD(n_components=64, random_state=6006)\n",
    "trafo_ppmi_mat = svd.fit_transform(ppmi_mat)\n",
    "sim_mat = cosine_similarity(trafo_ppmi_mat)"
   ]
  },
  {
   "cell_type": "code",
   "execution_count": 38,
   "metadata": {},
   "outputs": [
    {
     "name": "stdout",
     "output_type": "stream",
     "text": [
      "1.000 eminem\n",
      "0.824 lo\n",
      "0.806 timbaland\n",
      "0.774 funk\n",
      "0.765 rihanna\n",
      "0.754 santos\n",
      "0.753 reggae\n",
      "0.753 teen\n",
      "0.734 indie\n",
      "0.730 ballads\n"
     ]
    }
   ],
   "source": [
    "token = 'eminem'\n",
    "# print most similar terms\n",
    "for idx, word in pd.Series(sim_mat[vocab[token]]).sort_values(ascending=False).head(10).iteritems():\n",
    "    print('%.3f' % word, inv_vocab[idx])"
   ]
  },
  {
   "cell_type": "code",
   "execution_count": 39,
   "metadata": {},
   "outputs": [
    {
     "name": "stdout",
     "output_type": "stream",
     "text": [
      "1.000 quantum\n",
      "0.752 evolution\n",
      "0.738 biological\n",
      "0.734 theory\n",
      "0.731 mathematical\n",
      "0.729 basic\n",
      "0.716 mechanical\n",
      "0.705 techniques\n",
      "0.704 catalyzes\n",
      "0.702 elements\n"
     ]
    }
   ],
   "source": [
    "token = 'quantum'\n",
    "# print most similar terms\n",
    "for idx, word in pd.Series(sim_mat[vocab[token]]).sort_values(ascending=False).head(10).iteritems():\n",
    "    print('%.3f' % word, inv_vocab[idx])"
   ]
  },
  {
   "cell_type": "markdown",
   "metadata": {},
   "source": [
    "## In what way do these embeddings differ the TfIdf based ones we covered in class? Can you think of advantages/disadvantages for each approach?"
   ]
  },
  {
   "cell_type": "markdown",
   "metadata": {},
   "source": [
    "In this problem, we use the Point-wise mutual information to do these embedding. In our PWMI method, the ebedding will provide us with words that are similar to our token, while Tfidf would generate the most unique and important elements of an article. "
   ]
  },
  {
   "cell_type": "markdown",
   "metadata": {},
   "source": [
    "For Tfidf, Advantages are 1. Easy to compute 2. Easy to extract the most descriptive terms in a document 3. Easy to compare similarity between two articles\n",
    "\n",
    "For Tfidf Disadvantages are 1.  does not capture position in text, semantics, co-occurrences in different documents, etc.2. Cannot capture semantics "
   ]
  },
  {
   "cell_type": "markdown",
   "metadata": {},
   "source": [
    "For PMI, advantages are 1. Can find words with similar semantic meanings 2. catch informative co-occurrence\n",
    "\n",
    "For PMi, disadvantage are 1. Not as computationally efficient to compute (dimemsion reduction cell in p2 took forever to run) 2. Cannot generate descriptive terms for a document."
   ]
  },
  {
   "cell_type": "markdown",
   "metadata": {},
   "source": [
    "# Problem 3: Word vectors for different domains\n",
    "\n",
    "\n",
    "### In this problem we will creat embeddings for the `intro_text` column of the datasets `kdwd_featured_articles.csv` and `kdwd_r1k_articles.csv`\n",
    "### We can think of these as examples of 'generic' and 'finance specific' word representations\n",
    "\n",
    "## The goal of this exercise is to compare these two representations and find out which words change meaning the most across these two domains"
   ]
  },
  {
   "cell_type": "code",
   "execution_count": 41,
   "metadata": {},
   "outputs": [],
   "source": [
    "from sklearn.metrics.pairwise import cosine_similarity\n",
    "from sklearn.feature_extraction.text import TfidfVectorizer\n",
    "import scipy.sparse as ssp"
   ]
  },
  {
   "cell_type": "code",
   "execution_count": 42,
   "metadata": {},
   "outputs": [],
   "source": [
    "generic_df = pd.read_csv('kdwd_featured_articles.csv')"
   ]
  },
  {
   "cell_type": "code",
   "execution_count": 43,
   "metadata": {},
   "outputs": [],
   "source": [
    "finance_df = pd.read_csv('kdwd_r1k_articles.csv')"
   ]
  },
  {
   "cell_type": "markdown",
   "metadata": {},
   "source": [
    "### Create word representation for our 2 corpora using your favorite method"
   ]
  },
  {
   "cell_type": "code",
   "execution_count": 44,
   "metadata": {},
   "outputs": [],
   "source": [
    "generic_vector = TfidfVectorizer(min_df =1, max_df = 3)\n",
    "generic_mat = generic_vector.fit_transform(generic_df['intro_text'].to_list())\n",
    "generic_vocab = {token: n for n, token in enumerate(pd.Series(generic_vector.vocabulary_).sort_values().index)}\n",
    "\n",
    "finance_vector = TfidfVectorizer(min_df =1, max_df = 3)\n",
    "finance_mat = finance_vector.fit_transform(finance_df['intro_text'].to_list())\n",
    "finance_vocab = {token: n for n, token in enumerate(pd.Series(finance_vector.vocabulary_).sort_values().index)}\n"
   ]
  },
  {
   "cell_type": "code",
   "execution_count": null,
   "metadata": {},
   "outputs": [],
   "source": []
  },
  {
   "cell_type": "markdown",
   "metadata": {},
   "source": [
    "### Since our two corpora use different vocabulary we want to sub-select each representation matrix to be only of vacabulary tokens that occur in both corpora"
   ]
  },
  {
   "cell_type": "code",
   "execution_count": 45,
   "metadata": {},
   "outputs": [],
   "source": [
    "common_terms = list(set(generic_vocab) & set(finance_vocab))"
   ]
  },
  {
   "cell_type": "code",
   "execution_count": 46,
   "metadata": {},
   "outputs": [],
   "source": [
    "filtered_generic_mat = [generic_mat[:,generic_vocab[term]] for term in common_terms]\n",
    "filtered_finance_mat = [finance_mat[:,finance_vocab[term]] for term in common_terms]\n",
    "# your code here\n",
    "\n",
    "filtered_generic_mat = ssp.hstack(filtered_generic_mat)\n",
    "filtered_finance_mat = ssp.hstack(filtered_finance_mat)"
   ]
  },
  {
   "cell_type": "markdown",
   "metadata": {},
   "source": [
    "### Our documents for each corpus are different so there is no direct way of comparing our two representations, even though they now have the same dimension. To get them on equal footing, let's look at the word-word similarlity matrix for each domain.\n",
    "### Comparing these two, find terms that seem to have a drastically different meaning within the two domains."
   ]
  },
  {
   "cell_type": "code",
   "execution_count": 47,
   "metadata": {},
   "outputs": [],
   "source": [
    "# get the term-term similarity matrix\n",
    "generic_term_sim_mat = cosine_similarity(filtered_generic_mat.T)\n",
    "finance_term_sim_mat = cosine_similarity(filtered_finance_mat.T)"
   ]
  },
  {
   "cell_type": "code",
   "execution_count": null,
   "metadata": {},
   "outputs": [],
   "source": []
  },
  {
   "cell_type": "code",
   "execution_count": 48,
   "metadata": {},
   "outputs": [],
   "source": [
    "term_drift_scores = {}\n",
    "for n, term in enumerate(common_terms):\n",
    "    # This measurement: I picked Cosine between two list \n",
    "    term_sim = cosine_similarity(generic_term_sim_mat[n,:].reshape(-1,1).T,finance_term_sim_mat[n,:].reshape(-1,1).T)[0][0]\n",
    "    term_drift_scores[term] = term_sim"
   ]
  },
  {
   "cell_type": "code",
   "execution_count": 49,
   "metadata": {},
   "outputs": [],
   "source": [
    "term_drifts = pd.Series(term_drift_scores).sort_values()"
   ]
  },
  {
   "cell_type": "code",
   "execution_count": 50,
   "metadata": {},
   "outputs": [
    {
     "data": {
      "text/plain": [
       "pancakes            0.127375\n",
       "metastasis          0.143539\n",
       "484                 0.148339\n",
       "genomic             0.152355\n",
       "levi                0.156663\n",
       "fitbit              0.165214\n",
       "bellamy             0.169147\n",
       "pep                 0.173252\n",
       "weld                0.181315\n",
       "cynthia             0.182325\n",
       "understands         0.182325\n",
       "peck                0.182325\n",
       "haas                0.183685\n",
       "immunodeficiency    0.184723\n",
       "koppel              0.188387\n",
       "spyridon            0.189766\n",
       "uber                0.193388\n",
       "amicably            0.193853\n",
       "thyroid             0.196116\n",
       "redmond             0.201254\n",
       "enrolling           0.201292\n",
       "cookware            0.201709\n",
       "noses               0.203065\n",
       "727                 0.203648\n",
       "alameda             0.203742\n",
       "checkers            0.204623\n",
       "doris               0.205808\n",
       "equip               0.207294\n",
       "methodists          0.208764\n",
       "publicizing         0.208831\n",
       "dtype: float64"
      ]
     },
     "execution_count": 50,
     "metadata": {},
     "output_type": "execute_result"
    }
   ],
   "source": [
    "term_drifts.head(30)"
   ]
  },
  {
   "cell_type": "code",
   "execution_count": 51,
   "metadata": {},
   "outputs": [
    {
     "data": {
      "text/plain": [
       "cana          1.0\n",
       "jefferies     1.0\n",
       "zen           1.0\n",
       "springdale    1.0\n",
       "maxim         1.0\n",
       "530           1.0\n",
       "fallon        1.0\n",
       "rok           1.0\n",
       "aten          1.0\n",
       "nuance        1.0\n",
       "colfax        1.0\n",
       "cnx           1.0\n",
       "wiki          1.0\n",
       "ing           1.0\n",
       "insured       1.0\n",
       "lenses        1.0\n",
       "yoga          1.0\n",
       "im            1.0\n",
       "leawood       1.0\n",
       "426           1.0\n",
       "dtype: float64"
      ]
     },
     "execution_count": 51,
     "metadata": {},
     "output_type": "execute_result"
    }
   ],
   "source": [
    "term_drifts.tail(20)"
   ]
  },
  {
   "cell_type": "code",
   "execution_count": null,
   "metadata": {},
   "outputs": [],
   "source": []
  },
  {
   "cell_type": "code",
   "execution_count": null,
   "metadata": {},
   "outputs": [],
   "source": []
  },
  {
   "cell_type": "code",
   "execution_count": null,
   "metadata": {},
   "outputs": [],
   "source": []
  },
  {
   "cell_type": "markdown",
   "metadata": {},
   "source": [
    "# Problem 4: Corporate Similarity and Returns\n",
    "### In this example we'll explore how to use NLP to measure corporate similarity\n",
    "\n",
    "### In particular we will\n",
    " - ### Make word vectors for firms in order to get an NLP measure of similarity\n",
    " - ### Measure the quality of this similarity metric by predicting future co-movement of returns. \n",
    " \n",
    "## Step X: This problem uses a few concepts of basic modeling such as `sklearn.model_selection.train_test_split` and `sklearn.linear_model.LinearRegression`\n",
    "## Feel free to read some of the sklearn documentation, but otherwise we will cover these concepts next class\n",
    " \n",
    "\n",
    "# $ \\\\ $\n",
    "## Step 0: Load the MD&A section from Form-10-K from 2016"
   ]
  },
  {
   "cell_type": "code",
   "execution_count": 52,
   "metadata": {},
   "outputs": [],
   "source": [
    "with open('parsed_mda.json') as f:\n",
    "    data = json.load(f)"
   ]
  },
  {
   "cell_type": "markdown",
   "metadata": {},
   "source": [
    "### Next, take only the first filing for each company"
   ]
  },
  {
   "cell_type": "code",
   "execution_count": 53,
   "metadata": {},
   "outputs": [],
   "source": [
    "clean = []\n",
    "seen = set()\n",
    "for item in data:\n",
    "    if item['ticker'] in seen:\n",
    "        continue\n",
    "    else:\n",
    "        seen.add(item['ticker'])\n",
    "        clean.append(item)\n",
    "data = clean\n",
    "del clean"
   ]
  },
  {
   "cell_type": "markdown",
   "metadata": {},
   "source": [
    "### Now load the price data for 2015-2018"
   ]
  },
  {
   "cell_type": "code",
   "execution_count": 54,
   "metadata": {},
   "outputs": [],
   "source": [
    "prices = pd.read_csv(\n",
    "    'sp500_prices.csv', \n",
    "    index_col=0, \n",
    "    parse_dates=True\n",
    ").loc['2015-01-01':'2018-01-01']"
   ]
  },
  {
   "cell_type": "code",
   "execution_count": 55,
   "metadata": {},
   "outputs": [
    {
     "data": {
      "text/html": [
       "<div>\n",
       "<style scoped>\n",
       "    .dataframe tbody tr th:only-of-type {\n",
       "        vertical-align: middle;\n",
       "    }\n",
       "\n",
       "    .dataframe tbody tr th {\n",
       "        vertical-align: top;\n",
       "    }\n",
       "\n",
       "    .dataframe thead th {\n",
       "        text-align: right;\n",
       "    }\n",
       "</style>\n",
       "<table border=\"1\" class=\"dataframe\">\n",
       "  <thead>\n",
       "    <tr style=\"text-align: right;\">\n",
       "      <th></th>\n",
       "      <th>MMM</th>\n",
       "      <th>ABT</th>\n",
       "      <th>ABBV</th>\n",
       "      <th>ABMD</th>\n",
       "      <th>ACN</th>\n",
       "      <th>ATVI</th>\n",
       "      <th>ADBE</th>\n",
       "      <th>AMD</th>\n",
       "      <th>AAP</th>\n",
       "      <th>AES</th>\n",
       "      <th>...</th>\n",
       "      <th>WLTW</th>\n",
       "      <th>WYNN</th>\n",
       "      <th>XEL</th>\n",
       "      <th>XRX</th>\n",
       "      <th>XLNX</th>\n",
       "      <th>XYL</th>\n",
       "      <th>YUM</th>\n",
       "      <th>ZBH</th>\n",
       "      <th>ZION</th>\n",
       "      <th>ZTS</th>\n",
       "    </tr>\n",
       "    <tr>\n",
       "      <th>Date</th>\n",
       "      <th></th>\n",
       "      <th></th>\n",
       "      <th></th>\n",
       "      <th></th>\n",
       "      <th></th>\n",
       "      <th></th>\n",
       "      <th></th>\n",
       "      <th></th>\n",
       "      <th></th>\n",
       "      <th></th>\n",
       "      <th></th>\n",
       "      <th></th>\n",
       "      <th></th>\n",
       "      <th></th>\n",
       "      <th></th>\n",
       "      <th></th>\n",
       "      <th></th>\n",
       "      <th></th>\n",
       "      <th></th>\n",
       "      <th></th>\n",
       "      <th></th>\n",
       "    </tr>\n",
       "  </thead>\n",
       "  <tbody>\n",
       "    <tr>\n",
       "      <td>2015-01-02</td>\n",
       "      <td>152.857296</td>\n",
       "      <td>41.911850</td>\n",
       "      <td>59.166809</td>\n",
       "      <td>37.31</td>\n",
       "      <td>83.567918</td>\n",
       "      <td>19.647773</td>\n",
       "      <td>72.340</td>\n",
       "      <td>2.69</td>\n",
       "      <td>157.835250</td>\n",
       "      <td>12.207402</td>\n",
       "      <td>...</td>\n",
       "      <td>NaN</td>\n",
       "      <td>137.601094</td>\n",
       "      <td>32.876454</td>\n",
       "      <td>51.006224</td>\n",
       "      <td>40.568729</td>\n",
       "      <td>36.487373</td>\n",
       "      <td>48.740797</td>\n",
       "      <td>110.052964</td>\n",
       "      <td>27.623683</td>\n",
       "      <td>42.403000</td>\n",
       "    </tr>\n",
       "    <tr>\n",
       "      <td>2015-01-05</td>\n",
       "      <td>149.409947</td>\n",
       "      <td>41.921185</td>\n",
       "      <td>58.053335</td>\n",
       "      <td>37.07</td>\n",
       "      <td>82.156933</td>\n",
       "      <td>19.374481</td>\n",
       "      <td>71.980</td>\n",
       "      <td>2.66</td>\n",
       "      <td>155.754803</td>\n",
       "      <td>11.859892</td>\n",
       "      <td>...</td>\n",
       "      <td>NaN</td>\n",
       "      <td>135.259187</td>\n",
       "      <td>32.503272</td>\n",
       "      <td>49.893361</td>\n",
       "      <td>39.819696</td>\n",
       "      <td>34.216494</td>\n",
       "      <td>47.750487</td>\n",
       "      <td>114.158329</td>\n",
       "      <td>26.588649</td>\n",
       "      <td>42.148444</td>\n",
       "    </tr>\n",
       "    <tr>\n",
       "      <td>2015-01-06</td>\n",
       "      <td>147.816713</td>\n",
       "      <td>41.445126</td>\n",
       "      <td>57.765986</td>\n",
       "      <td>36.13</td>\n",
       "      <td>81.564320</td>\n",
       "      <td>19.013344</td>\n",
       "      <td>70.530</td>\n",
       "      <td>2.63</td>\n",
       "      <td>155.645306</td>\n",
       "      <td>11.592576</td>\n",
       "      <td>...</td>\n",
       "      <td>NaN</td>\n",
       "      <td>132.373957</td>\n",
       "      <td>32.676210</td>\n",
       "      <td>49.225643</td>\n",
       "      <td>39.247454</td>\n",
       "      <td>34.015277</td>\n",
       "      <td>47.164385</td>\n",
       "      <td>113.190639</td>\n",
       "      <td>25.573145</td>\n",
       "      <td>41.737240</td>\n",
       "    </tr>\n",
       "    <tr>\n",
       "      <td>2015-01-07</td>\n",
       "      <td>148.888186</td>\n",
       "      <td>41.781167</td>\n",
       "      <td>60.100691</td>\n",
       "      <td>37.28</td>\n",
       "      <td>83.276314</td>\n",
       "      <td>18.598525</td>\n",
       "      <td>71.110</td>\n",
       "      <td>2.58</td>\n",
       "      <td>158.989948</td>\n",
       "      <td>11.610397</td>\n",
       "      <td>...</td>\n",
       "      <td>NaN</td>\n",
       "      <td>136.261523</td>\n",
       "      <td>32.958372</td>\n",
       "      <td>49.856265</td>\n",
       "      <td>39.261411</td>\n",
       "      <td>34.283567</td>\n",
       "      <td>48.727324</td>\n",
       "      <td>116.005740</td>\n",
       "      <td>25.812374</td>\n",
       "      <td>42.598811</td>\n",
       "    </tr>\n",
       "    <tr>\n",
       "      <td>2015-01-08</td>\n",
       "      <td>152.456658</td>\n",
       "      <td>42.639940</td>\n",
       "      <td>60.729266</td>\n",
       "      <td>38.96</td>\n",
       "      <td>84.546201</td>\n",
       "      <td>18.788854</td>\n",
       "      <td>72.915</td>\n",
       "      <td>2.61</td>\n",
       "      <td>160.383549</td>\n",
       "      <td>11.788608</td>\n",
       "      <td>...</td>\n",
       "      <td>NaN</td>\n",
       "      <td>137.900858</td>\n",
       "      <td>33.340656</td>\n",
       "      <td>51.228796</td>\n",
       "      <td>40.136058</td>\n",
       "      <td>34.542275</td>\n",
       "      <td>49.576161</td>\n",
       "      <td>117.237350</td>\n",
       "      <td>26.178542</td>\n",
       "      <td>43.254780</td>\n",
       "    </tr>\n",
       "  </tbody>\n",
       "</table>\n",
       "<p>5 rows × 494 columns</p>\n",
       "</div>"
      ],
      "text/plain": [
       "                   MMM        ABT       ABBV   ABMD        ACN       ATVI  \\\n",
       "Date                                                                        \n",
       "2015-01-02  152.857296  41.911850  59.166809  37.31  83.567918  19.647773   \n",
       "2015-01-05  149.409947  41.921185  58.053335  37.07  82.156933  19.374481   \n",
       "2015-01-06  147.816713  41.445126  57.765986  36.13  81.564320  19.013344   \n",
       "2015-01-07  148.888186  41.781167  60.100691  37.28  83.276314  18.598525   \n",
       "2015-01-08  152.456658  42.639940  60.729266  38.96  84.546201  18.788854   \n",
       "\n",
       "              ADBE   AMD         AAP        AES  ...  WLTW        WYNN  \\\n",
       "Date                                             ...                     \n",
       "2015-01-02  72.340  2.69  157.835250  12.207402  ...   NaN  137.601094   \n",
       "2015-01-05  71.980  2.66  155.754803  11.859892  ...   NaN  135.259187   \n",
       "2015-01-06  70.530  2.63  155.645306  11.592576  ...   NaN  132.373957   \n",
       "2015-01-07  71.110  2.58  158.989948  11.610397  ...   NaN  136.261523   \n",
       "2015-01-08  72.915  2.61  160.383549  11.788608  ...   NaN  137.900858   \n",
       "\n",
       "                  XEL        XRX       XLNX        XYL        YUM         ZBH  \\\n",
       "Date                                                                            \n",
       "2015-01-02  32.876454  51.006224  40.568729  36.487373  48.740797  110.052964   \n",
       "2015-01-05  32.503272  49.893361  39.819696  34.216494  47.750487  114.158329   \n",
       "2015-01-06  32.676210  49.225643  39.247454  34.015277  47.164385  113.190639   \n",
       "2015-01-07  32.958372  49.856265  39.261411  34.283567  48.727324  116.005740   \n",
       "2015-01-08  33.340656  51.228796  40.136058  34.542275  49.576161  117.237350   \n",
       "\n",
       "                 ZION        ZTS  \n",
       "Date                              \n",
       "2015-01-02  27.623683  42.403000  \n",
       "2015-01-05  26.588649  42.148444  \n",
       "2015-01-06  25.573145  41.737240  \n",
       "2015-01-07  25.812374  42.598811  \n",
       "2015-01-08  26.178542  43.254780  \n",
       "\n",
       "[5 rows x 494 columns]"
      ]
     },
     "execution_count": 55,
     "metadata": {},
     "output_type": "execute_result"
    }
   ],
   "source": [
    "prices.head()"
   ]
  },
  {
   "cell_type": "code",
   "execution_count": 56,
   "metadata": {},
   "outputs": [],
   "source": [
    "data_tickers = [item['ticker'] for item in data]\n",
    "assert len(data_tickers) == len(set(data_tickers)), 'non-unique tickers, this will not work'"
   ]
  },
  {
   "cell_type": "markdown",
   "metadata": {},
   "source": [
    "## Step 1: clean the text\n",
    "### Much of NLP boils down to doing reasonable processing on text.\n",
    "### First, we'll try out very minimial processing"
   ]
  },
  {
   "cell_type": "code",
   "execution_count": 57,
   "metadata": {},
   "outputs": [],
   "source": [
    "def clean_mda_simple(mda):\n",
    "    return mda.lower()"
   ]
  },
  {
   "cell_type": "code",
   "execution_count": null,
   "metadata": {},
   "outputs": [],
   "source": []
  },
  {
   "cell_type": "code",
   "execution_count": 58,
   "metadata": {},
   "outputs": [],
   "source": [
    "# add import here\n",
    "from sklearn.feature_extraction.text import TfidfVectorizer\n",
    "vectorizer = TfidfVectorizer()\n"
   ]
  },
  {
   "cell_type": "code",
   "execution_count": 59,
   "metadata": {},
   "outputs": [
    {
     "data": {
      "text/plain": [
       "<323x24928 sparse matrix of type '<class 'numpy.float64'>'\n",
       "\twith 558161 stored elements in Compressed Sparse Row format>"
      ]
     },
     "execution_count": 59,
     "metadata": {},
     "output_type": "execute_result"
    }
   ],
   "source": [
    "word_vecs = vectorizer.fit_transform([clean_mda_simple(data[i]['mda']) for i in range(len(data))])\n",
    "word_vecs"
   ]
  },
  {
   "cell_type": "markdown",
   "metadata": {},
   "source": [
    "## Step 2: Pairwise Word similarity\n",
    "### Calculate the pariwise cosine similarity between word vectors\n",
    "### Make the cosine similarities into a dataframe indexed/columned on ticker symbols"
   ]
  },
  {
   "cell_type": "code",
   "execution_count": 60,
   "metadata": {},
   "outputs": [
    {
     "data": {
      "text/html": [
       "<div>\n",
       "<style scoped>\n",
       "    .dataframe tbody tr th:only-of-type {\n",
       "        vertical-align: middle;\n",
       "    }\n",
       "\n",
       "    .dataframe tbody tr th {\n",
       "        vertical-align: top;\n",
       "    }\n",
       "\n",
       "    .dataframe thead th {\n",
       "        text-align: right;\n",
       "    }\n",
       "</style>\n",
       "<table border=\"1\" class=\"dataframe\">\n",
       "  <thead>\n",
       "    <tr style=\"text-align: right;\">\n",
       "      <th></th>\n",
       "      <th>ADBE</th>\n",
       "      <th>AAP</th>\n",
       "      <th>AMD</th>\n",
       "      <th>AES</th>\n",
       "      <th>AMG</th>\n",
       "      <th>AFL</th>\n",
       "      <th>AIV</th>\n",
       "      <th>AKAM</th>\n",
       "      <th>SO</th>\n",
       "      <th>ALK</th>\n",
       "      <th>...</th>\n",
       "      <th>JCI</th>\n",
       "      <th>MU</th>\n",
       "      <th>RJF</th>\n",
       "      <th>ROK</th>\n",
       "      <th>SWKS</th>\n",
       "      <th>SBUX</th>\n",
       "      <th>SNPS</th>\n",
       "      <th>TSN</th>\n",
       "      <th>TDG</th>\n",
       "      <th>VIAB</th>\n",
       "    </tr>\n",
       "  </thead>\n",
       "  <tbody>\n",
       "    <tr>\n",
       "      <td>ADBE</td>\n",
       "      <td>1.000000</td>\n",
       "      <td>0.794595</td>\n",
       "      <td>0.809993</td>\n",
       "      <td>0.738847</td>\n",
       "      <td>0.771025</td>\n",
       "      <td>0.697476</td>\n",
       "      <td>0.617205</td>\n",
       "      <td>0.865301</td>\n",
       "      <td>0.0</td>\n",
       "      <td>0.740219</td>\n",
       "      <td>...</td>\n",
       "      <td>0.757418</td>\n",
       "      <td>0.766076</td>\n",
       "      <td>0.776184</td>\n",
       "      <td>0.790667</td>\n",
       "      <td>0.866640</td>\n",
       "      <td>0.734935</td>\n",
       "      <td>0.879703</td>\n",
       "      <td>0.821194</td>\n",
       "      <td>0.782013</td>\n",
       "      <td>0.749112</td>\n",
       "    </tr>\n",
       "    <tr>\n",
       "      <td>AAP</td>\n",
       "      <td>0.794595</td>\n",
       "      <td>1.000000</td>\n",
       "      <td>0.835343</td>\n",
       "      <td>0.773859</td>\n",
       "      <td>0.798051</td>\n",
       "      <td>0.723132</td>\n",
       "      <td>0.647898</td>\n",
       "      <td>0.863385</td>\n",
       "      <td>0.0</td>\n",
       "      <td>0.761096</td>\n",
       "      <td>...</td>\n",
       "      <td>0.787645</td>\n",
       "      <td>0.801146</td>\n",
       "      <td>0.801547</td>\n",
       "      <td>0.823923</td>\n",
       "      <td>0.827648</td>\n",
       "      <td>0.787677</td>\n",
       "      <td>0.832716</td>\n",
       "      <td>0.830265</td>\n",
       "      <td>0.805112</td>\n",
       "      <td>0.779251</td>\n",
       "    </tr>\n",
       "    <tr>\n",
       "      <td>AMD</td>\n",
       "      <td>0.809993</td>\n",
       "      <td>0.835343</td>\n",
       "      <td>1.000000</td>\n",
       "      <td>0.806705</td>\n",
       "      <td>0.826294</td>\n",
       "      <td>0.731263</td>\n",
       "      <td>0.652656</td>\n",
       "      <td>0.866758</td>\n",
       "      <td>0.0</td>\n",
       "      <td>0.786754</td>\n",
       "      <td>...</td>\n",
       "      <td>0.814339</td>\n",
       "      <td>0.809757</td>\n",
       "      <td>0.810382</td>\n",
       "      <td>0.814448</td>\n",
       "      <td>0.848316</td>\n",
       "      <td>0.739826</td>\n",
       "      <td>0.848308</td>\n",
       "      <td>0.842546</td>\n",
       "      <td>0.811280</td>\n",
       "      <td>0.790044</td>\n",
       "    </tr>\n",
       "    <tr>\n",
       "      <td>AES</td>\n",
       "      <td>0.738847</td>\n",
       "      <td>0.773859</td>\n",
       "      <td>0.806705</td>\n",
       "      <td>1.000000</td>\n",
       "      <td>0.772338</td>\n",
       "      <td>0.716099</td>\n",
       "      <td>0.633811</td>\n",
       "      <td>0.821687</td>\n",
       "      <td>0.0</td>\n",
       "      <td>0.751233</td>\n",
       "      <td>...</td>\n",
       "      <td>0.828628</td>\n",
       "      <td>0.776436</td>\n",
       "      <td>0.796716</td>\n",
       "      <td>0.776423</td>\n",
       "      <td>0.788249</td>\n",
       "      <td>0.708629</td>\n",
       "      <td>0.788762</td>\n",
       "      <td>0.791514</td>\n",
       "      <td>0.797264</td>\n",
       "      <td>0.752916</td>\n",
       "    </tr>\n",
       "    <tr>\n",
       "      <td>AMG</td>\n",
       "      <td>0.771025</td>\n",
       "      <td>0.798051</td>\n",
       "      <td>0.826294</td>\n",
       "      <td>0.772338</td>\n",
       "      <td>1.000000</td>\n",
       "      <td>0.709764</td>\n",
       "      <td>0.635551</td>\n",
       "      <td>0.846253</td>\n",
       "      <td>0.0</td>\n",
       "      <td>0.769998</td>\n",
       "      <td>...</td>\n",
       "      <td>0.748867</td>\n",
       "      <td>0.763281</td>\n",
       "      <td>0.818221</td>\n",
       "      <td>0.793322</td>\n",
       "      <td>0.798857</td>\n",
       "      <td>0.708009</td>\n",
       "      <td>0.817225</td>\n",
       "      <td>0.808883</td>\n",
       "      <td>0.748148</td>\n",
       "      <td>0.758264</td>\n",
       "    </tr>\n",
       "    <tr>\n",
       "      <td>...</td>\n",
       "      <td>...</td>\n",
       "      <td>...</td>\n",
       "      <td>...</td>\n",
       "      <td>...</td>\n",
       "      <td>...</td>\n",
       "      <td>...</td>\n",
       "      <td>...</td>\n",
       "      <td>...</td>\n",
       "      <td>...</td>\n",
       "      <td>...</td>\n",
       "      <td>...</td>\n",
       "      <td>...</td>\n",
       "      <td>...</td>\n",
       "      <td>...</td>\n",
       "      <td>...</td>\n",
       "      <td>...</td>\n",
       "      <td>...</td>\n",
       "      <td>...</td>\n",
       "      <td>...</td>\n",
       "      <td>...</td>\n",
       "      <td>...</td>\n",
       "    </tr>\n",
       "    <tr>\n",
       "      <td>SBUX</td>\n",
       "      <td>0.734935</td>\n",
       "      <td>0.787677</td>\n",
       "      <td>0.739826</td>\n",
       "      <td>0.708629</td>\n",
       "      <td>0.708009</td>\n",
       "      <td>0.652042</td>\n",
       "      <td>0.579700</td>\n",
       "      <td>0.753453</td>\n",
       "      <td>0.0</td>\n",
       "      <td>0.681113</td>\n",
       "      <td>...</td>\n",
       "      <td>0.732807</td>\n",
       "      <td>0.711540</td>\n",
       "      <td>0.740607</td>\n",
       "      <td>0.741276</td>\n",
       "      <td>0.769869</td>\n",
       "      <td>1.000000</td>\n",
       "      <td>0.759467</td>\n",
       "      <td>0.761885</td>\n",
       "      <td>0.745577</td>\n",
       "      <td>0.722325</td>\n",
       "    </tr>\n",
       "    <tr>\n",
       "      <td>SNPS</td>\n",
       "      <td>0.879703</td>\n",
       "      <td>0.832716</td>\n",
       "      <td>0.848308</td>\n",
       "      <td>0.788762</td>\n",
       "      <td>0.817225</td>\n",
       "      <td>0.734470</td>\n",
       "      <td>0.643356</td>\n",
       "      <td>0.905031</td>\n",
       "      <td>0.0</td>\n",
       "      <td>0.782300</td>\n",
       "      <td>...</td>\n",
       "      <td>0.812034</td>\n",
       "      <td>0.812379</td>\n",
       "      <td>0.826261</td>\n",
       "      <td>0.832376</td>\n",
       "      <td>0.893317</td>\n",
       "      <td>0.759467</td>\n",
       "      <td>1.000000</td>\n",
       "      <td>0.855504</td>\n",
       "      <td>0.826841</td>\n",
       "      <td>0.787721</td>\n",
       "    </tr>\n",
       "    <tr>\n",
       "      <td>TSN</td>\n",
       "      <td>0.821194</td>\n",
       "      <td>0.830265</td>\n",
       "      <td>0.842546</td>\n",
       "      <td>0.791514</td>\n",
       "      <td>0.808883</td>\n",
       "      <td>0.720083</td>\n",
       "      <td>0.633720</td>\n",
       "      <td>0.848864</td>\n",
       "      <td>0.0</td>\n",
       "      <td>0.775239</td>\n",
       "      <td>...</td>\n",
       "      <td>0.822319</td>\n",
       "      <td>0.806795</td>\n",
       "      <td>0.817118</td>\n",
       "      <td>0.837169</td>\n",
       "      <td>0.868083</td>\n",
       "      <td>0.761885</td>\n",
       "      <td>0.855504</td>\n",
       "      <td>1.000000</td>\n",
       "      <td>0.839700</td>\n",
       "      <td>0.779048</td>\n",
       "    </tr>\n",
       "    <tr>\n",
       "      <td>TDG</td>\n",
       "      <td>0.782013</td>\n",
       "      <td>0.805112</td>\n",
       "      <td>0.811280</td>\n",
       "      <td>0.797264</td>\n",
       "      <td>0.748148</td>\n",
       "      <td>0.718278</td>\n",
       "      <td>0.621524</td>\n",
       "      <td>0.821361</td>\n",
       "      <td>0.0</td>\n",
       "      <td>0.732525</td>\n",
       "      <td>...</td>\n",
       "      <td>0.896942</td>\n",
       "      <td>0.783343</td>\n",
       "      <td>0.852211</td>\n",
       "      <td>0.812304</td>\n",
       "      <td>0.843839</td>\n",
       "      <td>0.745577</td>\n",
       "      <td>0.826841</td>\n",
       "      <td>0.839700</td>\n",
       "      <td>1.000000</td>\n",
       "      <td>0.783417</td>\n",
       "    </tr>\n",
       "    <tr>\n",
       "      <td>VIAB</td>\n",
       "      <td>0.749112</td>\n",
       "      <td>0.779251</td>\n",
       "      <td>0.790044</td>\n",
       "      <td>0.752916</td>\n",
       "      <td>0.758264</td>\n",
       "      <td>0.686352</td>\n",
       "      <td>0.613678</td>\n",
       "      <td>0.815780</td>\n",
       "      <td>0.0</td>\n",
       "      <td>0.722060</td>\n",
       "      <td>...</td>\n",
       "      <td>0.784365</td>\n",
       "      <td>0.758317</td>\n",
       "      <td>0.783600</td>\n",
       "      <td>0.787123</td>\n",
       "      <td>0.799640</td>\n",
       "      <td>0.722325</td>\n",
       "      <td>0.787721</td>\n",
       "      <td>0.779048</td>\n",
       "      <td>0.783417</td>\n",
       "      <td>1.000000</td>\n",
       "    </tr>\n",
       "  </tbody>\n",
       "</table>\n",
       "<p>323 rows × 323 columns</p>\n",
       "</div>"
      ],
      "text/plain": [
       "          ADBE       AAP       AMD       AES       AMG       AFL       AIV  \\\n",
       "ADBE  1.000000  0.794595  0.809993  0.738847  0.771025  0.697476  0.617205   \n",
       "AAP   0.794595  1.000000  0.835343  0.773859  0.798051  0.723132  0.647898   \n",
       "AMD   0.809993  0.835343  1.000000  0.806705  0.826294  0.731263  0.652656   \n",
       "AES   0.738847  0.773859  0.806705  1.000000  0.772338  0.716099  0.633811   \n",
       "AMG   0.771025  0.798051  0.826294  0.772338  1.000000  0.709764  0.635551   \n",
       "...        ...       ...       ...       ...       ...       ...       ...   \n",
       "SBUX  0.734935  0.787677  0.739826  0.708629  0.708009  0.652042  0.579700   \n",
       "SNPS  0.879703  0.832716  0.848308  0.788762  0.817225  0.734470  0.643356   \n",
       "TSN   0.821194  0.830265  0.842546  0.791514  0.808883  0.720083  0.633720   \n",
       "TDG   0.782013  0.805112  0.811280  0.797264  0.748148  0.718278  0.621524   \n",
       "VIAB  0.749112  0.779251  0.790044  0.752916  0.758264  0.686352  0.613678   \n",
       "\n",
       "          AKAM   SO       ALK  ...       JCI        MU       RJF       ROK  \\\n",
       "ADBE  0.865301  0.0  0.740219  ...  0.757418  0.766076  0.776184  0.790667   \n",
       "AAP   0.863385  0.0  0.761096  ...  0.787645  0.801146  0.801547  0.823923   \n",
       "AMD   0.866758  0.0  0.786754  ...  0.814339  0.809757  0.810382  0.814448   \n",
       "AES   0.821687  0.0  0.751233  ...  0.828628  0.776436  0.796716  0.776423   \n",
       "AMG   0.846253  0.0  0.769998  ...  0.748867  0.763281  0.818221  0.793322   \n",
       "...        ...  ...       ...  ...       ...       ...       ...       ...   \n",
       "SBUX  0.753453  0.0  0.681113  ...  0.732807  0.711540  0.740607  0.741276   \n",
       "SNPS  0.905031  0.0  0.782300  ...  0.812034  0.812379  0.826261  0.832376   \n",
       "TSN   0.848864  0.0  0.775239  ...  0.822319  0.806795  0.817118  0.837169   \n",
       "TDG   0.821361  0.0  0.732525  ...  0.896942  0.783343  0.852211  0.812304   \n",
       "VIAB  0.815780  0.0  0.722060  ...  0.784365  0.758317  0.783600  0.787123   \n",
       "\n",
       "          SWKS      SBUX      SNPS       TSN       TDG      VIAB  \n",
       "ADBE  0.866640  0.734935  0.879703  0.821194  0.782013  0.749112  \n",
       "AAP   0.827648  0.787677  0.832716  0.830265  0.805112  0.779251  \n",
       "AMD   0.848316  0.739826  0.848308  0.842546  0.811280  0.790044  \n",
       "AES   0.788249  0.708629  0.788762  0.791514  0.797264  0.752916  \n",
       "AMG   0.798857  0.708009  0.817225  0.808883  0.748148  0.758264  \n",
       "...        ...       ...       ...       ...       ...       ...  \n",
       "SBUX  0.769869  1.000000  0.759467  0.761885  0.745577  0.722325  \n",
       "SNPS  0.893317  0.759467  1.000000  0.855504  0.826841  0.787721  \n",
       "TSN   0.868083  0.761885  0.855504  1.000000  0.839700  0.779048  \n",
       "TDG   0.843839  0.745577  0.826841  0.839700  1.000000  0.783417  \n",
       "VIAB  0.799640  0.722325  0.787721  0.779048  0.783417  1.000000  \n",
       "\n",
       "[323 rows x 323 columns]"
      ]
     },
     "execution_count": 60,
     "metadata": {},
     "output_type": "execute_result"
    }
   ],
   "source": [
    "word_sims = pd.DataFrame(cosine_similarity(word_vecs), columns = data_tickers, index = data_tickers)\n",
    "word_sims"
   ]
  },
  {
   "cell_type": "markdown",
   "metadata": {},
   "source": [
    "## Step 2a: Why `cosine_similarity` and not another measure?"
   ]
  },
  {
   "cell_type": "markdown",
   "metadata": {},
   "source": [
    "Cosine similarity can normalize the vectors of interest, so only the angle between those two vectors matter, \n"
   ]
  },
  {
   "cell_type": "markdown",
   "metadata": {},
   "source": [
    "## Step 3: Wrangle the price and word data\n",
    "### Our goal here is to have a dataframe which is indexed on PAIRS of tickers and has columns\n",
    " - ### `returns_correlation`: the correlation of returns for those two tickers from Jan 1 2016 to Jan 1 2017\n",
    " - ### `word_similarity`: the cosine similarity of the word vectors for the two companies' MD&A sections\n",
    " \n",
    "## Tips\n",
    " - ### NB: use pct_change to calculate returns in pandas\n",
    " - ### NB: use the pandas builtin corr function to calculate correlations (we don't need anything fancy)\n",
    " - ### NB: the index of the dataframe should have two columns (the tickers)"
   ]
  },
  {
   "cell_type": "code",
   "execution_count": 62,
   "metadata": {},
   "outputs": [],
   "source": [
    "# one way you might do this is\n",
    "rets_cor = prices.loc['2016-01-01':'2017-01-01'].pct_change().corr().stack().to_frame() # calculate returns correlations\n"
   ]
  },
  {
   "cell_type": "code",
   "execution_count": 63,
   "metadata": {},
   "outputs": [],
   "source": [
    "\n",
    "word_cor = word_sims.stack().to_frame()\n",
    "#  calcuate the word similarities in the right shape\n",
    "\n",
    "all_data = rets_cor.join(word_cor, lsuffix='_rets_cor', rsuffix='_word_sim')\n",
    "all_data = all_data.dropna()\n",
    "all_data.columns = ['returns_correlation', 'word_similarity']"
   ]
  },
  {
   "cell_type": "code",
   "execution_count": null,
   "metadata": {},
   "outputs": [],
   "source": []
  },
  {
   "cell_type": "markdown",
   "metadata": {},
   "source": [
    "## Step 3a: \n",
    " - ### What is the contemperaneous correlation of these data?\n",
    " - ### Make a scatter plot of the returns correlation and word similarities"
   ]
  },
  {
   "cell_type": "code",
   "execution_count": 64,
   "metadata": {},
   "outputs": [
    {
     "data": {
      "text/html": [
       "<div>\n",
       "<style scoped>\n",
       "    .dataframe tbody tr th:only-of-type {\n",
       "        vertical-align: middle;\n",
       "    }\n",
       "\n",
       "    .dataframe tbody tr th {\n",
       "        vertical-align: top;\n",
       "    }\n",
       "\n",
       "    .dataframe thead th {\n",
       "        text-align: right;\n",
       "    }\n",
       "</style>\n",
       "<table border=\"1\" class=\"dataframe\">\n",
       "  <thead>\n",
       "    <tr style=\"text-align: right;\">\n",
       "      <th></th>\n",
       "      <th>returns_correlation</th>\n",
       "      <th>word_similarity</th>\n",
       "    </tr>\n",
       "  </thead>\n",
       "  <tbody>\n",
       "    <tr>\n",
       "      <td>returns_correlation</td>\n",
       "      <td>1.000000</td>\n",
       "      <td>0.125844</td>\n",
       "    </tr>\n",
       "    <tr>\n",
       "      <td>word_similarity</td>\n",
       "      <td>0.125844</td>\n",
       "      <td>1.000000</td>\n",
       "    </tr>\n",
       "  </tbody>\n",
       "</table>\n",
       "</div>"
      ],
      "text/plain": [
       "                     returns_correlation  word_similarity\n",
       "returns_correlation             1.000000         0.125844\n",
       "word_similarity                 0.125844         1.000000"
      ]
     },
     "execution_count": 64,
     "metadata": {},
     "output_type": "execute_result"
    }
   ],
   "source": [
    "all_data.corr()"
   ]
  },
  {
   "cell_type": "code",
   "execution_count": 65,
   "metadata": {},
   "outputs": [],
   "source": [
    "## This should be about 12%. That's not bad, but we can do better"
   ]
  },
  {
   "cell_type": "code",
   "execution_count": 66,
   "metadata": {},
   "outputs": [
    {
     "data": {
      "text/plain": [
       "<matplotlib.axes._subplots.AxesSubplot at 0x1405ff2d0>"
      ]
     },
     "execution_count": 66,
     "metadata": {},
     "output_type": "execute_result"
    },
    {
     "data": {
      "image/png": "[encoded data removed]",
      "text/plain": [
       "<Figure size 432x288 with 1 Axes>"
      ]
     },
     "metadata": {
      "needs_background": "light"
     },
     "output_type": "display_data"
    }
   ],
   "source": [
    "all_data.plot.scatter(x='returns_correlation', y='word_similarity')"
   ]
  },
  {
   "cell_type": "markdown",
   "metadata": {},
   "source": [
    "## Part 4: Try to predict the future returns correlations\n",
    "### Use OLS (`LinearRegression`) to predict `returns_correlation` from `word_similarity`. \n",
    "### What is the (contemperaneous) out of sample performance?"
   ]
  },
  {
   "cell_type": "code",
   "execution_count": 67,
   "metadata": {},
   "outputs": [],
   "source": [
    "data_df = all_data\n",
    "feature_cols = ['word_similarity']\n",
    "target_col = ['returns_correlation']"
   ]
  },
  {
   "cell_type": "code",
   "execution_count": 68,
   "metadata": {},
   "outputs": [
    {
     "data": {
      "text/plain": [
       "0.015278404359304833"
      ]
     },
     "execution_count": 68,
     "metadata": {},
     "output_type": "execute_result"
    }
   ],
   "source": [
    "# add code here\n",
    "\n",
    "from sklearn.model_selection import train_test_split\n",
    "from sklearn.linear_model import LinearRegression\n",
    "X = data_df[feature_cols]\n",
    "y = data_df[target_col]\n",
    "X_test, X_train, y_test, y_train = train_test_split(X, y,test_size = 0.2, random_state = 42 )\n",
    "reg = LinearRegression()\n",
    "reg.fit(X_train, y_train)\n",
    "reg.score(X_test, y_test)"
   ]
  },
  {
   "cell_type": "code",
   "execution_count": null,
   "metadata": {},
   "outputs": [],
   "source": []
  },
  {
   "cell_type": "code",
   "execution_count": 69,
   "metadata": {},
   "outputs": [
    {
     "data": {
      "text/plain": [
       "word_similarity    0.079676\n",
       "dtype: float64"
      ]
     },
     "execution_count": 69,
     "metadata": {},
     "output_type": "execute_result"
    }
   ],
   "source": [
    "pd.Series(reg.coef_[0], index=feature_cols)"
   ]
  },
  {
   "cell_type": "markdown",
   "metadata": {},
   "source": [
    "### This is not amazing. We can do better!"
   ]
  },
  {
   "cell_type": "markdown",
   "metadata": {},
   "source": [
    "## $ \\\\ $ "
   ]
  },
  {
   "cell_type": "markdown",
   "metadata": {},
   "source": [
    "## Part 5: Repeat, but be careful\n",
    "### Here we will see if we can clean the data better\n",
    "\n",
    "### Things to try\n",
    " - ### Look at the histograms of word similarities to see if we can \"ignore\" some ill-behaved data\n",
    " - ### Try limiting how greedy the `TFIDFVectorizer` is: `min_df`, `max_df`, `max_features`, etc.\n",
    " \n",
    "### We will examine our data and look for things that look out of place\n",
    " - ### We will ultimately want our data to look normally distributed\n"
   ]
  },
  {
   "cell_type": "code",
   "execution_count": 95,
   "metadata": {},
   "outputs": [],
   "source": [
    "def clean_mda(mda):\n",
    "    paras = [p.lower() for p in mda.split('\\n') if len(p) > 40]\n",
    "    cleaned =  ' '.join(paras)\n",
    "    words = cleaned.split()\n",
    "    words = [word for word in words if len(word) > 2]\n",
    "    if len(words) > 10:\n",
    "        return ' '.join(words)\n",
    "    else:\n",
    "        return ''"
   ]
  },
  {
   "cell_type": "code",
   "execution_count": 96,
   "metadata": {},
   "outputs": [
    {
     "data": {
      "text/html": [
       "<div>\n",
       "<style scoped>\n",
       "    .dataframe tbody tr th:only-of-type {\n",
       "        vertical-align: middle;\n",
       "    }\n",
       "\n",
       "    .dataframe tbody tr th {\n",
       "        vertical-align: top;\n",
       "    }\n",
       "\n",
       "    .dataframe thead th {\n",
       "        text-align: right;\n",
       "    }\n",
       "</style>\n",
       "<table border=\"1\" class=\"dataframe\">\n",
       "  <thead>\n",
       "    <tr style=\"text-align: right;\">\n",
       "      <th></th>\n",
       "      <th>ADBE</th>\n",
       "      <th>AAP</th>\n",
       "      <th>AMD</th>\n",
       "      <th>AES</th>\n",
       "      <th>AMG</th>\n",
       "      <th>AFL</th>\n",
       "      <th>AIV</th>\n",
       "      <th>AKAM</th>\n",
       "      <th>SO</th>\n",
       "      <th>ALK</th>\n",
       "      <th>...</th>\n",
       "      <th>JCI</th>\n",
       "      <th>MU</th>\n",
       "      <th>RJF</th>\n",
       "      <th>ROK</th>\n",
       "      <th>SWKS</th>\n",
       "      <th>SBUX</th>\n",
       "      <th>SNPS</th>\n",
       "      <th>TSN</th>\n",
       "      <th>TDG</th>\n",
       "      <th>VIAB</th>\n",
       "    </tr>\n",
       "  </thead>\n",
       "  <tbody>\n",
       "    <tr>\n",
       "      <td>ADBE</td>\n",
       "      <td>1.000000</td>\n",
       "      <td>0.726226</td>\n",
       "      <td>0.752448</td>\n",
       "      <td>0.691033</td>\n",
       "      <td>0.706894</td>\n",
       "      <td>0.605587</td>\n",
       "      <td>0.494687</td>\n",
       "      <td>0.833388</td>\n",
       "      <td>0.0</td>\n",
       "      <td>0.690847</td>\n",
       "      <td>...</td>\n",
       "      <td>0.695626</td>\n",
       "      <td>0.689096</td>\n",
       "      <td>0.748071</td>\n",
       "      <td>0.764579</td>\n",
       "      <td>0.828419</td>\n",
       "      <td>0.650211</td>\n",
       "      <td>0.838276</td>\n",
       "      <td>0.756551</td>\n",
       "      <td>0.735782</td>\n",
       "      <td>0.714168</td>\n",
       "    </tr>\n",
       "    <tr>\n",
       "      <td>AAP</td>\n",
       "      <td>0.726226</td>\n",
       "      <td>1.000000</td>\n",
       "      <td>0.757257</td>\n",
       "      <td>0.713525</td>\n",
       "      <td>0.714004</td>\n",
       "      <td>0.624554</td>\n",
       "      <td>0.507432</td>\n",
       "      <td>0.810033</td>\n",
       "      <td>0.0</td>\n",
       "      <td>0.709696</td>\n",
       "      <td>...</td>\n",
       "      <td>0.709819</td>\n",
       "      <td>0.697159</td>\n",
       "      <td>0.752869</td>\n",
       "      <td>0.789135</td>\n",
       "      <td>0.753085</td>\n",
       "      <td>0.714829</td>\n",
       "      <td>0.755677</td>\n",
       "      <td>0.738416</td>\n",
       "      <td>0.753761</td>\n",
       "      <td>0.719061</td>\n",
       "    </tr>\n",
       "    <tr>\n",
       "      <td>AMD</td>\n",
       "      <td>0.752448</td>\n",
       "      <td>0.757257</td>\n",
       "      <td>1.000000</td>\n",
       "      <td>0.760295</td>\n",
       "      <td>0.766375</td>\n",
       "      <td>0.641326</td>\n",
       "      <td>0.516049</td>\n",
       "      <td>0.821633</td>\n",
       "      <td>0.0</td>\n",
       "      <td>0.716964</td>\n",
       "      <td>...</td>\n",
       "      <td>0.792785</td>\n",
       "      <td>0.741325</td>\n",
       "      <td>0.781404</td>\n",
       "      <td>0.769769</td>\n",
       "      <td>0.809517</td>\n",
       "      <td>0.668754</td>\n",
       "      <td>0.804931</td>\n",
       "      <td>0.790490</td>\n",
       "      <td>0.792823</td>\n",
       "      <td>0.743380</td>\n",
       "    </tr>\n",
       "    <tr>\n",
       "      <td>AES</td>\n",
       "      <td>0.691033</td>\n",
       "      <td>0.713525</td>\n",
       "      <td>0.760295</td>\n",
       "      <td>1.000000</td>\n",
       "      <td>0.696567</td>\n",
       "      <td>0.652778</td>\n",
       "      <td>0.505597</td>\n",
       "      <td>0.795378</td>\n",
       "      <td>0.0</td>\n",
       "      <td>0.707894</td>\n",
       "      <td>...</td>\n",
       "      <td>0.806610</td>\n",
       "      <td>0.711003</td>\n",
       "      <td>0.778654</td>\n",
       "      <td>0.759761</td>\n",
       "      <td>0.747314</td>\n",
       "      <td>0.647072</td>\n",
       "      <td>0.748166</td>\n",
       "      <td>0.729584</td>\n",
       "      <td>0.793390</td>\n",
       "      <td>0.722795</td>\n",
       "    </tr>\n",
       "    <tr>\n",
       "      <td>AMG</td>\n",
       "      <td>0.706894</td>\n",
       "      <td>0.714004</td>\n",
       "      <td>0.766375</td>\n",
       "      <td>0.696567</td>\n",
       "      <td>1.000000</td>\n",
       "      <td>0.602751</td>\n",
       "      <td>0.502895</td>\n",
       "      <td>0.801854</td>\n",
       "      <td>0.0</td>\n",
       "      <td>0.683299</td>\n",
       "      <td>...</td>\n",
       "      <td>0.688093</td>\n",
       "      <td>0.676931</td>\n",
       "      <td>0.772442</td>\n",
       "      <td>0.739645</td>\n",
       "      <td>0.743684</td>\n",
       "      <td>0.624932</td>\n",
       "      <td>0.757091</td>\n",
       "      <td>0.732198</td>\n",
       "      <td>0.706342</td>\n",
       "      <td>0.701719</td>\n",
       "    </tr>\n",
       "    <tr>\n",
       "      <td>...</td>\n",
       "      <td>...</td>\n",
       "      <td>...</td>\n",
       "      <td>...</td>\n",
       "      <td>...</td>\n",
       "      <td>...</td>\n",
       "      <td>...</td>\n",
       "      <td>...</td>\n",
       "      <td>...</td>\n",
       "      <td>...</td>\n",
       "      <td>...</td>\n",
       "      <td>...</td>\n",
       "      <td>...</td>\n",
       "      <td>...</td>\n",
       "      <td>...</td>\n",
       "      <td>...</td>\n",
       "      <td>...</td>\n",
       "      <td>...</td>\n",
       "      <td>...</td>\n",
       "      <td>...</td>\n",
       "      <td>...</td>\n",
       "      <td>...</td>\n",
       "    </tr>\n",
       "    <tr>\n",
       "      <td>SBUX</td>\n",
       "      <td>0.650211</td>\n",
       "      <td>0.714829</td>\n",
       "      <td>0.668754</td>\n",
       "      <td>0.647072</td>\n",
       "      <td>0.624932</td>\n",
       "      <td>0.554777</td>\n",
       "      <td>0.447844</td>\n",
       "      <td>0.686348</td>\n",
       "      <td>0.0</td>\n",
       "      <td>0.610587</td>\n",
       "      <td>...</td>\n",
       "      <td>0.673411</td>\n",
       "      <td>0.607778</td>\n",
       "      <td>0.686977</td>\n",
       "      <td>0.676581</td>\n",
       "      <td>0.688641</td>\n",
       "      <td>1.000000</td>\n",
       "      <td>0.675882</td>\n",
       "      <td>0.681556</td>\n",
       "      <td>0.693328</td>\n",
       "      <td>0.647489</td>\n",
       "    </tr>\n",
       "    <tr>\n",
       "      <td>SNPS</td>\n",
       "      <td>0.838276</td>\n",
       "      <td>0.755677</td>\n",
       "      <td>0.804931</td>\n",
       "      <td>0.748166</td>\n",
       "      <td>0.757091</td>\n",
       "      <td>0.643306</td>\n",
       "      <td>0.509778</td>\n",
       "      <td>0.874216</td>\n",
       "      <td>0.0</td>\n",
       "      <td>0.731491</td>\n",
       "      <td>...</td>\n",
       "      <td>0.770275</td>\n",
       "      <td>0.730700</td>\n",
       "      <td>0.799060</td>\n",
       "      <td>0.790691</td>\n",
       "      <td>0.842162</td>\n",
       "      <td>0.675882</td>\n",
       "      <td>1.000000</td>\n",
       "      <td>0.787929</td>\n",
       "      <td>0.796299</td>\n",
       "      <td>0.749740</td>\n",
       "    </tr>\n",
       "    <tr>\n",
       "      <td>TSN</td>\n",
       "      <td>0.756551</td>\n",
       "      <td>0.738416</td>\n",
       "      <td>0.790490</td>\n",
       "      <td>0.729584</td>\n",
       "      <td>0.732198</td>\n",
       "      <td>0.617206</td>\n",
       "      <td>0.495295</td>\n",
       "      <td>0.789991</td>\n",
       "      <td>0.0</td>\n",
       "      <td>0.699543</td>\n",
       "      <td>...</td>\n",
       "      <td>0.776740</td>\n",
       "      <td>0.714378</td>\n",
       "      <td>0.777243</td>\n",
       "      <td>0.763731</td>\n",
       "      <td>0.822359</td>\n",
       "      <td>0.681556</td>\n",
       "      <td>0.787929</td>\n",
       "      <td>1.000000</td>\n",
       "      <td>0.800869</td>\n",
       "      <td>0.716956</td>\n",
       "    </tr>\n",
       "    <tr>\n",
       "      <td>TDG</td>\n",
       "      <td>0.735782</td>\n",
       "      <td>0.753761</td>\n",
       "      <td>0.792823</td>\n",
       "      <td>0.793390</td>\n",
       "      <td>0.706342</td>\n",
       "      <td>0.682504</td>\n",
       "      <td>0.501663</td>\n",
       "      <td>0.815330</td>\n",
       "      <td>0.0</td>\n",
       "      <td>0.724604</td>\n",
       "      <td>...</td>\n",
       "      <td>0.877982</td>\n",
       "      <td>0.724616</td>\n",
       "      <td>0.856285</td>\n",
       "      <td>0.775687</td>\n",
       "      <td>0.788223</td>\n",
       "      <td>0.693328</td>\n",
       "      <td>0.796299</td>\n",
       "      <td>0.800869</td>\n",
       "      <td>1.000000</td>\n",
       "      <td>0.726719</td>\n",
       "    </tr>\n",
       "    <tr>\n",
       "      <td>VIAB</td>\n",
       "      <td>0.714168</td>\n",
       "      <td>0.719061</td>\n",
       "      <td>0.743380</td>\n",
       "      <td>0.722795</td>\n",
       "      <td>0.701719</td>\n",
       "      <td>0.616040</td>\n",
       "      <td>0.494645</td>\n",
       "      <td>0.797825</td>\n",
       "      <td>0.0</td>\n",
       "      <td>0.687748</td>\n",
       "      <td>...</td>\n",
       "      <td>0.723000</td>\n",
       "      <td>0.685849</td>\n",
       "      <td>0.742761</td>\n",
       "      <td>0.763338</td>\n",
       "      <td>0.748612</td>\n",
       "      <td>0.647489</td>\n",
       "      <td>0.749740</td>\n",
       "      <td>0.716956</td>\n",
       "      <td>0.726719</td>\n",
       "      <td>1.000000</td>\n",
       "    </tr>\n",
       "  </tbody>\n",
       "</table>\n",
       "<p>300 rows × 323 columns</p>\n",
       "</div>"
      ],
      "text/plain": [
       "          ADBE       AAP       AMD       AES       AMG       AFL       AIV  \\\n",
       "ADBE  1.000000  0.726226  0.752448  0.691033  0.706894  0.605587  0.494687   \n",
       "AAP   0.726226  1.000000  0.757257  0.713525  0.714004  0.624554  0.507432   \n",
       "AMD   0.752448  0.757257  1.000000  0.760295  0.766375  0.641326  0.516049   \n",
       "AES   0.691033  0.713525  0.760295  1.000000  0.696567  0.652778  0.505597   \n",
       "AMG   0.706894  0.714004  0.766375  0.696567  1.000000  0.602751  0.502895   \n",
       "...        ...       ...       ...       ...       ...       ...       ...   \n",
       "SBUX  0.650211  0.714829  0.668754  0.647072  0.624932  0.554777  0.447844   \n",
       "SNPS  0.838276  0.755677  0.804931  0.748166  0.757091  0.643306  0.509778   \n",
       "TSN   0.756551  0.738416  0.790490  0.729584  0.732198  0.617206  0.495295   \n",
       "TDG   0.735782  0.753761  0.792823  0.793390  0.706342  0.682504  0.501663   \n",
       "VIAB  0.714168  0.719061  0.743380  0.722795  0.701719  0.616040  0.494645   \n",
       "\n",
       "          AKAM   SO       ALK  ...       JCI        MU       RJF       ROK  \\\n",
       "ADBE  0.833388  0.0  0.690847  ...  0.695626  0.689096  0.748071  0.764579   \n",
       "AAP   0.810033  0.0  0.709696  ...  0.709819  0.697159  0.752869  0.789135   \n",
       "AMD   0.821633  0.0  0.716964  ...  0.792785  0.741325  0.781404  0.769769   \n",
       "AES   0.795378  0.0  0.707894  ...  0.806610  0.711003  0.778654  0.759761   \n",
       "AMG   0.801854  0.0  0.683299  ...  0.688093  0.676931  0.772442  0.739645   \n",
       "...        ...  ...       ...  ...       ...       ...       ...       ...   \n",
       "SBUX  0.686348  0.0  0.610587  ...  0.673411  0.607778  0.686977  0.676581   \n",
       "SNPS  0.874216  0.0  0.731491  ...  0.770275  0.730700  0.799060  0.790691   \n",
       "TSN   0.789991  0.0  0.699543  ...  0.776740  0.714378  0.777243  0.763731   \n",
       "TDG   0.815330  0.0  0.724604  ...  0.877982  0.724616  0.856285  0.775687   \n",
       "VIAB  0.797825  0.0  0.687748  ...  0.723000  0.685849  0.742761  0.763338   \n",
       "\n",
       "          SWKS      SBUX      SNPS       TSN       TDG      VIAB  \n",
       "ADBE  0.828419  0.650211  0.838276  0.756551  0.735782  0.714168  \n",
       "AAP   0.753085  0.714829  0.755677  0.738416  0.753761  0.719061  \n",
       "AMD   0.809517  0.668754  0.804931  0.790490  0.792823  0.743380  \n",
       "AES   0.747314  0.647072  0.748166  0.729584  0.793390  0.722795  \n",
       "AMG   0.743684  0.624932  0.757091  0.732198  0.706342  0.701719  \n",
       "...        ...       ...       ...       ...       ...       ...  \n",
       "SBUX  0.688641  1.000000  0.675882  0.681556  0.693328  0.647489  \n",
       "SNPS  0.842162  0.675882  1.000000  0.787929  0.796299  0.749740  \n",
       "TSN   0.822359  0.681556  0.787929  1.000000  0.800869  0.716956  \n",
       "TDG   0.788223  0.693328  0.796299  0.800869  1.000000  0.726719  \n",
       "VIAB  0.748612  0.647489  0.749740  0.716956  0.726719  1.000000  \n",
       "\n",
       "[300 rows x 323 columns]"
      ]
     },
     "execution_count": 96,
     "metadata": {},
     "output_type": "execute_result"
    }
   ],
   "source": [
    "vec = TfidfVectorizer(\n",
    "    min_df= 1,\n",
    "    max_df= 1000,\n",
    "    max_features=10000 \n",
    "    \n",
    ")\n",
    "word_vecs = vec.fit_transform([clean_mda(item['mda']) for item in data])\n",
    "\n",
    "word_sims =  pd.DataFrame(cosine_similarity(word_vecs), columns = data_tickers, index = data_tickers)\n",
    "# Lots of word similarities are all zeros- so we'll ignore\n",
    "# add code here to remove rows of word_sims where all the elements are zero\n",
    "word_sims = word_sims[(word_sims.T != 0).any()]\n",
    "word_sims"
   ]
  },
  {
   "cell_type": "code",
   "execution_count": 107,
   "metadata": {},
   "outputs": [],
   "source": [
    "# calculate the returns correlation and the cosine similarities as above\n",
    "word_cor = word_sims.stack().to_frame()\n",
    "\n",
    "all_data = rets_cor.join(word_cor, lsuffix='_rets_cor', rsuffix='_word_sim')\n",
    "all_data = all_data.dropna()\n",
    "all_data.columns = ['returns_correlation', 'word_similarity']"
   ]
  },
  {
   "cell_type": "code",
   "execution_count": 108,
   "metadata": {},
   "outputs": [
    {
     "data": {
      "text/plain": [
       "Text(0.5, 1.0, 'Word Similarity')"
      ]
     },
     "execution_count": 108,
     "metadata": {},
     "output_type": "execute_result"
    },
    {
     "data": {
      "image/png": "[encoded data removed]",
      "text/plain": [
       "<Figure size 864x504 with 1 Axes>"
      ]
     },
     "metadata": {
      "needs_background": "light"
     },
     "output_type": "display_data"
    },
    {
     "data": {
      "image/png": "[encoded data removed]",
      "text/plain": [
       "<Figure size 864x504 with 1 Axes>"
      ]
     },
     "metadata": {
      "needs_background": "light"
     },
     "output_type": "display_data"
    }
   ],
   "source": [
    "# inspect your data- make some histograms\n",
    "plt.figure(figsize=(12,7))\n",
    "all_data.returns_correlation.hist(bins=40)\n",
    "plt.title('Returns Correlation')\n",
    "plt.figure(figsize=(12,7))\n",
    "all_data.word_similarity.hist(bins=40)\n",
    "plt.title('Word Similarity')"
   ]
  },
  {
   "cell_type": "markdown",
   "metadata": {},
   "source": [
    "### Cleaning our data\n",
    "### It seems lots of things are identically 0 (no word overlap) or identically 1 (the MD&A section for one company perfectly overlaps itself). We will exclude those"
   ]
  },
  {
   "cell_type": "code",
   "execution_count": 109,
   "metadata": {},
   "outputs": [
    {
     "data": {
      "text/plain": [
       "ACN  ACN     1.000000\n",
       "     ADBE    0.756833\n",
       "     AMD     0.733997\n",
       "     AAP     0.708385\n",
       "     AES     0.720879\n",
       "               ...   \n",
       "ZTS  XLNX    0.797136\n",
       "     XYL     0.809144\n",
       "     YUM     0.680219\n",
       "     ZION    0.764895\n",
       "     ZTS     1.000000\n",
       "Name: word_similarity, Length: 93810, dtype: float64"
      ]
     },
     "execution_count": 109,
     "metadata": {},
     "output_type": "execute_result"
    }
   ],
   "source": [
    "all_data['word_similarity']"
   ]
  },
  {
   "cell_type": "code",
   "execution_count": 110,
   "metadata": {},
   "outputs": [],
   "source": [
    "# your code here\n",
    "all_data = all_data[all_data['word_similarity']>0]\n",
    "all_data = all_data[all_data['word_similarity']<1]"
   ]
  },
  {
   "cell_type": "code",
   "execution_count": 111,
   "metadata": {},
   "outputs": [
    {
     "data": {
      "text/plain": [
       "Text(0.5, 1.0, 'Word Similarity')"
      ]
     },
     "execution_count": 111,
     "metadata": {},
     "output_type": "execute_result"
    },
    {
     "data": {
      "image/png": "[encoded data removed]",
      "text/plain": [
       "<Figure size 864x504 with 1 Axes>"
      ]
     },
     "metadata": {
      "needs_background": "light"
     },
     "output_type": "display_data"
    },
    {
     "data": {
      "image/png": "[encoded data removed]",
      "text/plain": [
       "<Figure size 864x504 with 1 Axes>"
      ]
     },
     "metadata": {
      "needs_background": "light"
     },
     "output_type": "display_data"
    }
   ],
   "source": [
    "# examine histograms again\n",
    "plt.figure(figsize=(12,7))\n",
    "all_data.returns_correlation.hist(bins=40)\n",
    "plt.title('Returns Correlation')\n",
    "plt.figure(figsize=(12,7))\n",
    "all_data.word_similarity.hist(bins=40)\n",
    "plt.title('Word Similarity')"
   ]
  },
  {
   "cell_type": "code",
   "execution_count": 112,
   "metadata": {},
   "outputs": [
    {
     "data": {
      "text/html": [
       "<div>\n",
       "<style scoped>\n",
       "    .dataframe tbody tr th:only-of-type {\n",
       "        vertical-align: middle;\n",
       "    }\n",
       "\n",
       "    .dataframe tbody tr th {\n",
       "        vertical-align: top;\n",
       "    }\n",
       "\n",
       "    .dataframe thead th {\n",
       "        text-align: right;\n",
       "    }\n",
       "</style>\n",
       "<table border=\"1\" class=\"dataframe\">\n",
       "  <thead>\n",
       "    <tr style=\"text-align: right;\">\n",
       "      <th></th>\n",
       "      <th>returns_correlation</th>\n",
       "      <th>word_similarity</th>\n",
       "    </tr>\n",
       "  </thead>\n",
       "  <tbody>\n",
       "    <tr>\n",
       "      <td>returns_correlation</td>\n",
       "      <td>1.00000</td>\n",
       "      <td>0.20617</td>\n",
       "    </tr>\n",
       "    <tr>\n",
       "      <td>word_similarity</td>\n",
       "      <td>0.20617</td>\n",
       "      <td>1.00000</td>\n",
       "    </tr>\n",
       "  </tbody>\n",
       "</table>\n",
       "</div>"
      ],
      "text/plain": [
       "                     returns_correlation  word_similarity\n",
       "returns_correlation              1.00000          0.20617\n",
       "word_similarity                  0.20617          1.00000"
      ]
     },
     "execution_count": 112,
     "metadata": {},
     "output_type": "execute_result"
    }
   ],
   "source": [
    "all_data.corr()"
   ]
  },
  {
   "cell_type": "markdown",
   "metadata": {},
   "source": [
    "### Lastly, there is a bit of a \"hump\" at low `word_similarity`"
   ]
  },
  {
   "cell_type": "code",
   "execution_count": null,
   "metadata": {},
   "outputs": [],
   "source": []
  },
  {
   "cell_type": "code",
   "execution_count": 115,
   "metadata": {},
   "outputs": [
    {
     "data": {
      "text/html": [
       "<div>\n",
       "<style scoped>\n",
       "    .dataframe tbody tr th:only-of-type {\n",
       "        vertical-align: middle;\n",
       "    }\n",
       "\n",
       "    .dataframe tbody tr th {\n",
       "        vertical-align: top;\n",
       "    }\n",
       "\n",
       "    .dataframe thead th {\n",
       "        text-align: right;\n",
       "    }\n",
       "</style>\n",
       "<table border=\"1\" class=\"dataframe\">\n",
       "  <thead>\n",
       "    <tr style=\"text-align: right;\">\n",
       "      <th></th>\n",
       "      <th>returns_correlation</th>\n",
       "      <th>word_similarity</th>\n",
       "    </tr>\n",
       "  </thead>\n",
       "  <tbody>\n",
       "    <tr>\n",
       "      <td>returns_correlation</td>\n",
       "      <td>1.000000</td>\n",
       "      <td>0.263148</td>\n",
       "    </tr>\n",
       "    <tr>\n",
       "      <td>word_similarity</td>\n",
       "      <td>0.263148</td>\n",
       "      <td>1.000000</td>\n",
       "    </tr>\n",
       "  </tbody>\n",
       "</table>\n",
       "</div>"
      ],
      "text/plain": [
       "                     returns_correlation  word_similarity\n",
       "returns_correlation             1.000000         0.263148\n",
       "word_similarity                 0.263148         1.000000"
      ]
     },
     "execution_count": 115,
     "metadata": {},
     "output_type": "execute_result"
    }
   ],
   "source": [
    "# add code here\n",
    "# Not Sure what he wants? Remove the hump?\n",
    "all_data = all_data[all_data['word_similarity']>0.5]\n",
    "all_data.corr()"
   ]
  },
  {
   "cell_type": "markdown",
   "metadata": {},
   "source": [
    "### The contemperaneous correlation is twice as large!"
   ]
  },
  {
   "cell_type": "markdown",
   "metadata": {},
   "source": [
    "## Part 6: Now, repeat the exercise of predicting future returns correlation"
   ]
  },
  {
   "cell_type": "code",
   "execution_count": 116,
   "metadata": {},
   "outputs": [],
   "source": [
    "data_df =  all_data# Add code here\n",
    "# add code here"
   ]
  },
  {
   "cell_type": "code",
   "execution_count": 117,
   "metadata": {},
   "outputs": [
    {
     "data": {
      "text/plain": [
       "0.06925948869133214"
      ]
     },
     "execution_count": 117,
     "metadata": {},
     "output_type": "execute_result"
    }
   ],
   "source": [
    "feature_cols = ['word_similarity']\n",
    "target_col = ['returns_correlation']\n",
    "from sklearn.model_selection import train_test_split\n",
    "from sklearn.linear_model import LinearRegression\n",
    "X = data_df[feature_cols]\n",
    "y = data_df[target_col]\n",
    "X_test, X_train, y_test, y_train = train_test_split(X, y,test_size = 0.2, random_state = 42 )\n",
    "reg = LinearRegression()\n",
    "reg.fit(X_train, y_train)\n",
    "reg.score(X_test, y_test)\n"
   ]
  },
  {
   "cell_type": "code",
   "execution_count": 118,
   "metadata": {},
   "outputs": [
    {
     "data": {
      "text/plain": [
       "word_similarity    0.469537\n",
       "dtype: float64"
      ]
     },
     "execution_count": 118,
     "metadata": {},
     "output_type": "execute_result"
    }
   ],
   "source": [
    "pd.Series(reg.coef_[0], index=feature_cols)"
   ]
  },
  {
   "cell_type": "markdown",
   "metadata": {},
   "source": [
    "### This is about 5 times better than before!\n",
    "## $ \\\\ $ \n",
    "## Part 7: What will happen if we include last year's returns correlation as a feature"
   ]
  },
  {
   "cell_type": "code",
   "execution_count": 92,
   "metadata": {},
   "outputs": [],
   "source": [
    "last_year_corr =  prices.loc['2016-01-01':'2018-01-01'].pct_change().corr().stack().to_frame()\n",
    "data_df = last_year_corr.join(word_cor, lsuffix='_rets_cor', rsuffix='_word_sim')\n",
    "data_df = data_df.dropna()\n",
    "data_df.columns = ['returns_correlation', 'word_similarity']\n",
    "data_df = data_df[data_df['word_similarity']>0.5]\n",
    "data_df = data_df[data_df['word_similarity']<1]"
   ]
  },
  {
   "cell_type": "code",
   "execution_count": 93,
   "metadata": {},
   "outputs": [
    {
     "data": {
      "text/plain": [
       "0.06708750612712411"
      ]
     },
     "execution_count": 93,
     "metadata": {},
     "output_type": "execute_result"
    }
   ],
   "source": [
    "feature_cols = ['word_similarity']\n",
    "target_col = ['returns_correlation']\n",
    "from sklearn.model_selection import train_test_split\n",
    "from sklearn.linear_model import LinearRegression\n",
    "X = data_df[feature_cols]\n",
    "y = data_df[target_col]\n",
    "X_test, X_train, y_test, y_train = train_test_split(X, y,test_size = 0.2, random_state = 42 )\n",
    "reg = LinearRegression()\n",
    "reg.fit(X_train, y_train)\n",
    "reg.score(X_test, y_test)"
   ]
  },
  {
   "cell_type": "code",
   "execution_count": 94,
   "metadata": {},
   "outputs": [
    {
     "data": {
      "text/plain": [
       "word_similarity    0.416222\n",
       "dtype: float64"
      ]
     },
     "execution_count": 94,
     "metadata": {},
     "output_type": "execute_result"
    }
   ],
   "source": [
    "pd.Series(reg.coef_[0], index=feature_cols)"
   ]
  },
  {
   "cell_type": "markdown",
   "metadata": {},
   "source": [
    "## Indeed, we do much better, but the word features still help!"
   ]
  },
  {
   "cell_type": "code",
   "execution_count": null,
   "metadata": {},
   "outputs": [],
   "source": []
  },
  {
   "cell_type": "code",
   "execution_count": null,
   "metadata": {},
   "outputs": [],
   "source": []
  },
  {
   "cell_type": "code",
   "execution_count": null,
   "metadata": {},
   "outputs": [],
   "source": []
  },
  {
   "cell_type": "code",
   "execution_count": null,
   "metadata": {},
   "outputs": [],
   "source": []
  }
 ],
 "metadata": {
  "kernelspec": {
   "display_name": "Python 3",
   "language": "python",
   "name": "python3"
  },
  "language_info": {
   "codemirror_mode": {
    "name": "ipython",
    "version": 3
   },
   "file_extension": ".py",
   "mimetype": "text/x-python",
   "name": "python",
   "nbconvert_exporter": "python",
   "pygments_lexer": "ipython3",
   "version": "3.7.4"
  }
 },
 "nbformat": 4,
 "nbformat_minor": 2
}
